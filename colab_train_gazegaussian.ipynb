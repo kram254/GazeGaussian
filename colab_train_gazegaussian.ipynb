{
 "cells": [
  {
   "cell_type": "code",
   "execution_count": null,
   "metadata": {},
   "outputs": [],
   "source": [
    "from google.colab import drive\n",
    "drive.mount('/content/drive')"
   ]
  },
  {
   "cell_type": "code",
   "execution_count": null,
   "metadata": {},
   "outputs": [],
   "source": [
    "%cd /content/GazeGaussian"
   ]
  },
  {
   "cell_type": "code",
   "execution_count": null,
   "metadata": {},
   "outputs": [],
   "source": [
    "!nvidia-smi"
   ]
  },
  {
   "cell_type": "code",
   "execution_count": null,
   "metadata": {},
   "outputs": [],
   "source": [
    "!python verify_enhanced_implementation.py"
   ]
  },
  {
   "cell_type": "code",
   "execution_count": null,
   "metadata": {},
   "outputs": [],
   "source": [
    "!python verify_dit_mode.py"
   ]
  },
  {
   "cell_type": "code",
   "execution_count": null,
   "metadata": {},
   "outputs": [],
   "source": [
    "import os\n",
    "import shutil\n",
    "from pathlib import Path\n",
    "\n",
    "drive_checkpoint_dir = \"/content/drive/MyDrive/GazeGaussian_checkpoints/gazegaussian\"\n",
    "drive_validation_dir = \"/content/drive/MyDrive/GazeGaussian_checkpoints/validation_images\"\n",
    "os.makedirs(drive_checkpoint_dir, exist_ok=True)\n",
    "os.makedirs(drive_validation_dir, exist_ok=True)\n",
    "\n",
    "def save_checkpoint_to_drive():\n",
    "    local_ckpt_dir = Path(\"work_dirs\")\n",
    "    if local_ckpt_dir.exists():\n",
    "        for ckpt_file in local_ckpt_dir.glob(\"**/checkpoints/*.pth\"):\n",
    "            dest = Path(drive_checkpoint_dir) / ckpt_file.name\n",
    "            shutil.copy(ckpt_file, dest)\n",
    "            print(f\"Saved {ckpt_file.name} to Google Drive\")\n",
    "        \n",
    "        for result_file in local_ckpt_dir.glob(\"**/results/*.png\"):\n",
    "            dest = Path(drive_validation_dir) / result_file.name\n",
    "            shutil.copy(result_file, dest)\n",
    "            print(f\"Saved {result_file.name} to Google Drive\")"
   ]
  },
  {
   "cell_type": "code",
   "execution_count": null,
   "metadata": {},
   "outputs": [],
   "source": [
    "meshhead_checkpoint = \"/content/drive/MyDrive/GazeGaussian_checkpoints/meshhead/latest.pth\"\n",
    "\n",
    "if os.path.exists(meshhead_checkpoint):\n",
    "    print(f\"Using MeshHead checkpoint from Google Drive: {meshhead_checkpoint}\")\n",
    "    cmd = f\"python train_gazegaussian.py --batch_size 1 --num_epochs 100 --save_freq 500 --load_meshhead_checkpoint {meshhead_checkpoint}\"\n",
    "elif os.path.exists(\"work_dirs/meshhead/checkpoints/latest.pth\"):\n",
    "    print(\"Using local MeshHead checkpoint\")\n",
    "    cmd = \"python train_gazegaussian.py --batch_size 1 --num_epochs 100 --save_freq 500 --load_meshhead_checkpoint work_dirs/meshhead/checkpoints/latest.pth\"\n",
    "else:\n",
    "    print(\"WARNING: No MeshHead checkpoint found!\")\n",
    "    print(\"Training from scratch (not recommended)\")\n",
    "    cmd = \"python train_gazegaussian.py --batch_size 1 --num_epochs 100 --save_freq 500\"\n",
    "\n",
    "print(f\"\\nCommand: {cmd}\")"
   ]
  },
  {
   "cell_type": "code",
   "execution_count": null,
   "metadata": {},
   "outputs": [],
   "source": [
    "!{cmd}"
   ]
  },
  {
   "cell_type": "code",
   "execution_count": null,
   "metadata": {},
   "outputs": [],
   "source": [
    "save_checkpoint_to_drive()\n",
    "print(\"\\nGazeGaussian training complete!\")\n",
    "print(f\"Checkpoints saved to: {drive_checkpoint_dir}\")\n",
    "print(f\"Validation images saved to: {drive_validation_dir}\")"
   ]
  },
  {
   "cell_type": "code",
   "execution_count": null,
   "metadata": {},
   "outputs": [],
   "source": [
    "latest_checkpoint = None\n",
    "for ckpt in Path(\"work_dirs\").glob(\"**/checkpoints/*.pth\"):\n",
    "    if \"latest\" in ckpt.name or \"final\" in ckpt.name:\n",
    "        latest_checkpoint = str(ckpt)\n",
    "        break\n",
    "\n",
    "if latest_checkpoint:\n",
    "    print(f\"Generating validation images from: {latest_checkpoint}\")\n",
    "    !python generate_validation_images.py --checkpoint {latest_checkpoint} --num_samples 16 --output_dir validation_outputs\n",
    "    \n",
    "    if os.path.exists(\"validation_outputs\"):\n",
    "        for img in Path(\"validation_outputs\").glob(\"*.png\"):\n",
    "            shutil.copy(img, drive_validation_dir)\n",
    "        print(f\"Validation images copied to: {drive_validation_dir}\")\n",
    "else:\n",
    "    print(\"No checkpoint found for validation\")"
   ]
  },
  {
   "cell_type": "code",
   "execution_count": null,
   "metadata": {},
   "outputs": [],
   "source": [
    "from IPython.display import Image, display\n",
    "import glob\n",
    "\n",
    "validation_images = glob.glob(\"validation_outputs/*.png\")[:8]\n",
    "print(f\"Displaying {len(validation_images)} validation images:\\n\")\n",
    "\n",
    "for img_path in validation_images:\n",
    "    print(f\"\\n{os.path.basename(img_path)}:\")\n",
    "    display(Image(filename=img_path, width=800))"
   ]
  },
  {
   "cell_type": "code",
   "execution_count": null,
   "metadata": {},
   "outputs": [],
   "source": [
    "print(\"\\n\" + \"=\"*80)\n",
    "print(\"TRAINING COMPLETE!\")\n",
    "print(\"=\"*80)\n",
    "print(f\"\\nAll files saved to Google Drive:\")\n",
    "print(f\"  Checkpoints: {drive_checkpoint_dir}\")\n",
    "print(f\"  Validation: {drive_validation_dir}\")\n",
    "print(\"\\nActive Features:\")\n",
    "print(\"  ✓ DiT Neural Renderer with AdaLN-Zero\")\n",
    "print(\"  ✓ VAE Integration (latent compression)\")\n",
    "print(\"  ✓ Orthogonality Loss (disentangled control)\")\n",
    "print(\"  ✓ Intermediate Gaze Training (every 5 batches)\")\n",
    "print(\"=\"*80)"
   ]
  }
 ],
 "metadata": {
  "accelerator": "GPU",
  "colab": {
   "gpuType": "T4",
   "provenance": []
  },
  "kernelspec": {
   "display_name": "Python 3",
   "name": "python3"
  }
 },
 "nbformat": 4,
 "nbformat_minor": 0
}
