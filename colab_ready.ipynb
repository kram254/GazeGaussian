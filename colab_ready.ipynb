{
 "cells": [
  {
   "cell_type": "markdown",
   "metadata": {},
   "source": [
    "# GazeGaussian - Google Colab Setup\n",
    "\n",
    "## Key Changes\n",
    "- **PyTorch3D removed**: Functions replaced with native PyTorch implementations\n",
    "- **Clean build process**: Ensures ABI compatibility by rebuilding extensions with correct PyTorch version\n",
    "- **CUDA compatibility**: Matches PyTorch installation to Colab's CUDA version\n",
    "\n",
    "## Setup Steps\n",
    "1. Check GPU availability\n",
    "2. Mount Google Drive for data/checkpoints\n",
    "3. Clone repository with submodules\n",
    "4. Install dependencies\n",
    "5. Clean any previous builds\n",
    "6. Reinstall PyTorch for proper CUDA compatibility\n",
    "7. Build custom CUDA extensions (diff-gaussian-rasterization, simple-knn)\n",
    "8. Verify all imports\n",
    "\n",
    "Run cells in order. If any step fails, check error messages and rerun that specific cell."
   ]
  },
  {
   "cell_type": "code",
   "execution_count": null,
   "metadata": {},
   "outputs": [],
   "source": [
    "!nvidia-smi"
   ]
  },
  {
   "cell_type": "code",
   "execution_count": null,
   "metadata": {},
   "outputs": [],
   "source": [
    "from google.colab import drive\n",
    "drive.mount('/content/drive')"
   ]
  },
  {
   "cell_type": "markdown",
   "metadata": {},
   "source": [
    "### Re-clone Repository (if updating code)\n",
    "Run this cell if you need to re-clone with updated code."
   ]
  },
  {
   "cell_type": "code",
   "execution_count": null,
   "metadata": {},
   "outputs": [],
   "source": [
    "%cd /content\n",
    "!rm -rf GazeGaussian\n",
    "!git clone --recursive https://github.com/kram254/GazeGaussian.git\n",
    "%cd GazeGaussian\n",
    "!git submodule update --init --recursive\n",
    "print(\"✓ Repository re-cloned with latest code\")"
   ]
  },
  {
   "cell_type": "code",
   "execution_count": null,
   "metadata": {},
   "outputs": [],
   "source": [
    "%cd /content\n",
    "!git clone --recursive https://github.com/Abiram929/GazeGaussian.git\n",
    "%cd GazeGaussian"
   ]
  },
  {
   "cell_type": "code",
   "execution_count": null,
   "metadata": {},
   "outputs": [],
   "source": [
    "!git submodule update --init --recursive"
   ]
  },
  {
   "cell_type": "code",
   "execution_count": null,
   "metadata": {},
   "outputs": [],
   "source": [
    "import torch\n",
    "import sys\n",
    "print(f\"Python: {sys.version}\")\n",
    "print(f\"PyTorch: {torch.__version__}\")\n",
    "print(f\"CUDA: {torch.version.cuda}\")\n",
    "print(f\"CUDA available: {torch.cuda.is_available()}\")"
   ]
  },
  {
   "cell_type": "markdown",
   "metadata": {},
   "source": [
    "### Download Required Model Files"
   ]
  },
  {
   "cell_type": "code",
   "execution_count": null,
   "metadata": {},
   "outputs": [],
   "source": [
    "%cd /content/GazeGaussian/configs\n",
    "!wget https://huggingface.co/ucwxb/GazeGaussian/resolve/main/config_models.zip\n",
    "!unzip -q config_models.zip\n",
    "%cd /content/GazeGaussian\n",
    "print(\"✓ Model config files downloaded\")"
   ]
  },
  {
   "cell_type": "code",
   "execution_count": null,
   "metadata": {},
   "outputs": [],
   "source": [
    "!pip install --upgrade pip setuptools wheel ninja"
   ]
  },
  {
   "cell_type": "code",
   "execution_count": null,
   "metadata": {},
   "outputs": [],
   "source": [
    "!pip install opencv-python h5py tqdm scipy scikit-image lpips kornia"
   ]
  },
  {
   "cell_type": "markdown",
   "metadata": {},
   "source": [
    "### Note: PyTorch3D Not Required\n",
    "PyTorch3D functions have been replaced with native PyTorch implementations in the codebase."
   ]
  },
  {
   "cell_type": "markdown",
   "metadata": {},
   "source": [
    "### Clean Installation Process\n",
    "The following cells will:\n",
    "1. Remove any conflicting cached builds\n",
    "2. Reinstall PyTorch to ensure ABI compatibility\n",
    "3. Build custom CUDA extensions from scratch"
   ]
  },
  {
   "cell_type": "markdown",
   "metadata": {},
   "source": [
    "### Step 1: Clean Previous Builds\n",
    "Remove any previously compiled extensions that may be incompatible."
   ]
  },
  {
   "cell_type": "code",
   "execution_count": null,
   "metadata": {},
   "outputs": [],
   "source": [
    "!pip uninstall -y diff-gaussian-rasterization simple-knn kaolin\n",
    "!pip cache purge\n",
    "!rm -rf /usr/local/lib/python3.*/dist-packages/diff_gaussian_rasterization*\n",
    "!rm -rf /usr/local/lib/python3.*/dist-packages/simple_knn*\n",
    "!rm -rf /usr/local/lib/python3.*/dist-packages/kaolin*\n",
    "!rm -rf /content/GazeGaussian/submodules/diff-gaussian-rasterization/build\n",
    "!rm -rf /content/GazeGaussian/submodules/simple-knn/build\n",
    "!rm -rf /tmp/*\n",
    "print(\"✓ Cleanup complete\")"
   ]
  },
  {
   "cell_type": "markdown",
   "metadata": {},
   "source": [
    "### Step 2: Reinstall PyTorch\n",
    "Ensure PyTorch is properly matched with the system CUDA version to avoid ABI compatibility issues."
   ]
  },
  {
   "cell_type": "code",
   "execution_count": null,
   "metadata": {},
   "outputs": [],
   "source": [
    "import torch\n",
    "print(f\"Current PyTorch: {torch.__version__}\")\n",
    "print(f\"CUDA version: {torch.version.cuda}\")\n",
    "print(\"Ensuring PyTorch is properly installed for this CUDA version...\")\n",
    "!pip install --force-reinstall torch torchvision torchaudio --index-url https://download.pytorch.org/whl/cu121\n",
    "import torch\n",
    "print(f\"\\nReinstalled PyTorch: {torch.__version__}\")\n",
    "print(f\"CUDA version: {torch.version.cuda}\")\n",
    "print(f\"CUDA available: {torch.cuda.is_available()}\")"
   ]
  },
  {
   "cell_type": "markdown",
   "metadata": {},
   "source": [
    "### Step 3: Fix simple-knn Source Code\n",
    "Add missing header for FLT_MAX constant."
   ]
  },
  {
   "cell_type": "code",
   "execution_count": null,
   "metadata": {},
   "outputs": [],
   "source": [
    "import os\n",
    "os.chdir('/content/GazeGaussian/submodules/simple-knn')\n",
    "with open('simple_knn.cu', 'r') as f:\n",
    "    content = f.read()\n",
    "if '#include <cfloat>' not in content:\n",
    "    content = content.replace('#include <vector>', '#include <vector>\\n#include <cfloat>')\n",
    "    with open('simple_knn.cu', 'w') as f:\n",
    "        f.write(content)\n",
    "os.chdir('/content/GazeGaussian')"
   ]
  },
  {
   "cell_type": "markdown",
   "metadata": {},
   "source": [
    "### Step 4: Build Custom CUDA Extensions\n",
    "Build diff-gaussian-rasterization and simple-knn from source."
   ]
  },
  {
   "cell_type": "code",
   "execution_count": null,
   "metadata": {},
   "outputs": [],
   "source": [
    "%cd submodules/diff-gaussian-rasterization\n",
    "!python setup.py install\n",
    "%cd ../.."
   ]
  },
  {
   "cell_type": "markdown",
   "metadata": {},
   "source": [
    "### Step 5: Install Kaolin (Required for MeshHead Training)"
   ]
  },
  {
   "cell_type": "code",
   "execution_count": null,
   "metadata": {},
   "outputs": [],
   "source": [
    "%cd /content\n",
    "!git clone --recursive https://github.com/NVIDIAGameWorks/kaolin\n",
    "%cd kaolin\n",
    "!python setup.py install\n",
    "%cd /content/GazeGaussian\n",
    "print(\"\\n✓ Kaolin installed successfully!\")"
   ]
  },
  {
   "cell_type": "code",
   "execution_count": null,
   "metadata": {},
   "outputs": [],
   "source": [
    "print(\"\\n\" + \"=\"*80)\n",
    "print(\"VERIFICATION\")\n",
    "print(\"=\"*80)\n",
    "\n",
    "all_good = True\n",
    "\n",
    "packages = [\n",
    "    ('torch', 'PyTorch'),\n",
    "    ('cv2', 'OpenCV'),\n",
    "    ('h5py', 'h5py'),\n",
    "    ('lpips', 'LPIPS'),\n",
    "    ('kornia', 'Kornia'),\n",
    "]\n",
    "\n",
    "for mod, name in packages:\n",
    "    try:\n",
    "        m = __import__(mod)\n",
    "        v = getattr(m, '__version__', 'OK')\n",
    "        print(f\"✓ {name:15s} {v}\")\n",
    "    except ImportError as e:\n",
    "        print(f\"✗ {name:15s} FAILED: {str(e)[:50]}\")\n",
    "        all_good = False\n",
    "\n",
    "try:\n",
    "    import simple_knn\n",
    "    print(f\"✓ {'simple-knn':15s} OK\")\n",
    "except ImportError as e:\n",
    "    print(f\"✗ {'simple-knn':15s} FAILED: {str(e)[:50]}\")\n",
    "    all_good = False\n",
    "\n",
    "try:\n",
    "    import diff_gaussian_rasterization\n",
    "    print(f\"✓ {'diff-gauss':15s} OK\")\n",
    "except ImportError as e:\n",
    "    print(f\"✗ {'diff-gauss':15s} FAILED: {str(e)[:50]}\")\n",
    "    all_good = False\n",
    "\n",
    "try:\n",
    "    import kaolin\n",
    "    print(f\"✓ {'kaolin':15s} {kaolin.__version__}\")\n",
    "except ImportError as e:\n",
    "    print(f\"✗ {'kaolin':15s} FAILED: {str(e)[:50]}\")\n",
    "    all_good = False\n",
    "\n",
    "print(\"=\"*80)\n",
    "\n",
    "if all_good:\n",
    "    print(\"\\n✅ ALL REQUIRED PACKAGES INSTALLED SUCCESSFULLY!\")\n",
    "    print(\"   Ready for MeshHead and GazeGaussian training!\")\n",
    "else:\n",
    "    print(\"\\n⚠ Some packages failed. Check errors above and rerun failed installations.\")"
   ]
  },
  {
   "cell_type": "code",
   "execution_count": null,
   "metadata": {},
   "outputs": [],
   "source": [
    "print(\"\\n\" + \"=\"*80)\n",
    "print(\"VERIFICATION\")\n",
    "print(\"=\"*80)\n",
    "\n",
    "all_good = True\n",
    "\n",
    "packages = [\n",
    "    ('torch', 'PyTorch'),\n",
    "    ('cv2', 'OpenCV'),\n",
    "    ('h5py', 'h5py'),\n",
    "    ('lpips', 'LPIPS'),\n",
    "    ('kornia', 'Kornia'),\n",
    "]\n",
    "\n",
    "for mod, name in packages:\n",
    "    try:\n",
    "        m = __import__(mod)\n",
    "        v = getattr(m, '__version__', 'OK')\n",
    "        print(f\"✓ {name:15s} {v}\")\n",
    "    except ImportError as e:\n",
    "        print(f\"✗ {name:15s} FAILED: {str(e)[:50]}\")\n",
    "        all_good = False\n",
    "\n",
    "try:\n",
    "    import simple_knn\n",
    "    print(f\"✓ {'simple-knn':15s} OK\")\n",
    "except ImportError as e:\n",
    "    print(f\"✗ {'simple-knn':15s} FAILED: {str(e)[:50]}\")\n",
    "    all_good = False\n",
    "\n",
    "try:\n",
    "    import diff_gaussian_rasterization\n",
    "    print(f\"✓ {'diff-gauss':15s} OK\")\n",
    "except ImportError as e:\n",
    "    print(f\"✗ {'diff-gauss':15s} FAILED: {str(e)[:50]}\")\n",
    "    all_good = False\n",
    "\n",
    "print(\"=\"*80)\n",
    "\n",
    "if all_good:\n",
    "    print(\"\\n✅ ALL CORE PACKAGES INSTALLED SUCCESSFULLY!\")\n",
    "else:\n",
    "    print(\"\\n⚠ Some packages failed. Check errors above and rerun failed installations.\")"
   ]
  },
  {
   "cell_type": "markdown",
   "metadata": {},
   "source": [
    "## Training Commands\n",
    "\n",
    "### Train MeshHead\n",
    "```bash\n",
    "python train_meshhead.py --img_dir /path/to/images --checkpoint_path /content/drive/MyDrive/GazeGaussian_checkpoints/meshhead\n",
    "```\n",
    "\n",
    "### Train GazeGaussian\n",
    "```bash\n",
    "python train.py -s /path/to/dataset -m /content/drive/MyDrive/GazeGaussian_checkpoints/model\n",
    "```\n",
    "\n",
    "Replace paths with your actual data locations. Checkpoints will be saved to Google Drive."
   ]
  },
  {
   "cell_type": "markdown",
   "metadata": {},
   "source": [
    "## Verify Data Availability"
   ]
  },
  {
   "cell_type": "code",
   "execution_count": null,
   "metadata": {},
   "outputs": [],
   "source": [
    "import os\n",
    "from pathlib import Path\n",
    "\n",
    "print(\"=\"*80)\n",
    "print(\"DATA AVAILABILITY CHECK\")\n",
    "print(\"=\"*80)\n",
    "\n",
    "data_locations = [\n",
    "    \"/content/data\",\n",
    "    \"/content/GazeGaussian/data\",\n",
    "    \"/content/drive/MyDrive/GazeGaussian_data\",\n",
    "]\n",
    "\n",
    "print(\"\\n📁 Checking common data locations:\\n\")\n",
    "\n",
    "for location in data_locations:\n",
    "    if os.path.exists(location):\n",
    "        print(f\"✓ Found: {location}\")\n",
    "        \n",
    "        contents = list(Path(location).rglob(\"*\"))\n",
    "        dirs = [f for f in contents if f.is_dir()]\n",
    "        files = [f for f in contents if f.is_file()]\n",
    "        images = [f for f in files if f.suffix.lower() in ['.jpg', '.jpeg', '.png', '.bmp']]\n",
    "        \n",
    "        print(f\"  - Subdirectories: {len(dirs)}\")\n",
    "        print(f\"  - Total files: {len(files)}\")\n",
    "        print(f\"  - Image files: {len(images)}\")\n",
    "        \n",
    "        if len(contents) <= 20:\n",
    "            print(f\"\\n  Contents:\")\n",
    "            for item in sorted(contents)[:20]:\n",
    "                print(f\"    {item.relative_to(location)}\")\n",
    "        else:\n",
    "            print(f\"\\n  First 10 items:\")\n",
    "            for item in sorted(contents)[:10]:\n",
    "                print(f\"    {item.relative_to(location)}\")\n",
    "        print()\n",
    "    else:\n",
    "        print(f\"✗ Not found: {location}\")\n",
    "\n",
    "print(\"=\"*80)\n",
    "print(\"\\n💡 To upload data:\")\n",
    "print(\"1. From local: Use Colab's file upload or mount Google Drive\")\n",
    "print(\"2. From Drive: Copy to /content/drive/MyDrive/GazeGaussian_data\")\n",
    "print(\"3. From URL: Use !wget or !gdown commands\")\n",
    "print(\"\\nExample: !gdown <google-drive-file-id> -O /content/data/dataset.zip\")\n",
    "print(\"         !unzip /content/data/dataset.zip -d /content/data/\")\n",
    "print(\"=\"*80)"
   ]
  },
  {
   "cell_type": "markdown",
   "metadata": {},
   "source": [
    "### Create Custom Config for Your Dataset\n",
    "Your data uses `xgaze_` prefix and different subject numbers. This cell creates a matching config."
   ]
  },
  {
   "cell_type": "code",
   "execution_count": null,
   "metadata": {},
   "outputs": [],
   "source": [
    "import json\n",
    "from pathlib import Path\n",
    "\n",
    "data_dir = Path(\"/content/drive/MyDrive/GazeGaussian_data/ETH-XGaze_test/ETH-XGaze_test\")\n",
    "h5_files = sorted([f.name for f in data_dir.glob(\"*.h5\")])\n",
    "\n",
    "print(f\"Found {len(h5_files)} HDF5 files:\\n{h5_files}\")\n",
    "\n",
    "train_split = int(len(h5_files) * 0.8)\n",
    "train_files = h5_files[:train_split]\n",
    "val_files = h5_files[train_split:]\n",
    "\n",
    "custom_config = {\n",
    "    \"train\": train_files,\n",
    "    \"val\": val_files,\n",
    "    \"val_gaze\": val_files,\n",
    "    \"test\": [],\n",
    "    \"test_specific\": []\n",
    "}\n",
    "\n",
    "config_path = \"/content/GazeGaussian/configs/dataset/eth_xgaze/train_test_split.json\"\n",
    "with open(config_path, 'w') as f:\n",
    "    json.dump(custom_config, f, indent=2)\n",
    "\n",
    "print(f\"\\n✓ Updated config at: {config_path}\")\n",
    "print(f\"  - Training files: {len(train_files)}\")\n",
    "print(f\"  - Validation files: {len(val_files)}\")\n",
    "print(f\"\\nFirst 5 training files: {train_files[:5]}\")\n",
    "print(f\"Validation files: {val_files}\")"
   ]
  },
  {
   "cell_type": "markdown",
   "metadata": {},
   "source": [
    "### Optional: Upload/Download Data\n",
    "Uncomment and modify the commands below based on your data source."
   ]
  },
  {
   "cell_type": "code",
   "execution_count": null,
   "metadata": {},
   "outputs": [],
   "source": [
    "!mkdir -p /content/data\n",
    "\n",
    "print(\"Choose your data source method:\\n\")\n",
    "\n",
    "print(\"Option 1: Copy from Google Drive\")\n",
    "print(\"!cp -r /content/drive/MyDrive/YourDatasetFolder /content/data/\")\n",
    "print()\n",
    "\n",
    "print(\"Option 2: Download from URL\")\n",
    "print(\"!wget https://your-url.com/dataset.zip -O /content/data/dataset.zip\")\n",
    "print(\"!unzip /content/data/dataset.zip -d /content/data/\")\n",
    "print()\n",
    "\n",
    "print(\"Option 3: Download from Google Drive (requires gdown)\")\n",
    "print(\"!pip install gdown\")\n",
    "print(\"!gdown <FILE_ID> -O /content/data/dataset.zip\")\n",
    "print(\"!unzip /content/data/dataset.zip -d /content/data/\")\n",
    "print()\n",
    "\n",
    "print(\"Option 4: Upload files manually\")\n",
    "print(\"from google.colab import files\")\n",
    "print(\"uploaded = files.upload()\")\n",
    "print()\n",
    "\n",
    "print(\"Option 5: Clone from Git LFS\")\n",
    "print(\"!git lfs clone https://huggingface.co/datasets/your-dataset /content/data/\")\n",
    "print()\n",
    "\n",
    "print(\"\\n⚠ Uncomment the commands above that match your data source and modify paths accordingly.\")"
   ]
  },
  {
   "cell_type": "markdown",
   "metadata": {},
   "source": [
    "### Inspect HDF5 Dataset Contents\n",
    "Check what's inside the ETH-XGaze .h5 files"
   ]
  },
  {
   "cell_type": "code",
   "execution_count": null,
   "metadata": {},
   "outputs": [],
   "source": [
    "import h5py\n",
    "import numpy as np\n",
    "from pathlib import Path\n",
    "import matplotlib.pyplot as plt\n",
    "\n",
    "data_dir = Path(\"/content/drive/MyDrive/GazeGaussian_data\")\n",
    "h5_files = list(data_dir.rglob(\"*.h5\"))\n",
    "\n",
    "print(\"=\"*80)\n",
    "print(\"HDF5 DATASET INSPECTION\")\n",
    "print(\"=\"*80)\n",
    "\n",
    "if not h5_files:\n",
    "    print(\"❌ No .h5 files found!\")\n",
    "else:\n",
    "    print(f\"\\n✓ Found {len(h5_files)} HDF5 files\\n\")\n",
    "    \n",
    "    sample_file = h5_files[0]\n",
    "    print(f\"📄 Inspecting: {sample_file.name}\\n\")\n",
    "    \n",
    "    with h5py.File(sample_file, 'r') as f:\n",
    "        print(\"Dataset keys/groups:\")\n",
    "        def print_structure(name, obj):\n",
    "            if isinstance(obj, h5py.Dataset):\n",
    "                print(f\"  📊 {name}: shape={obj.shape}, dtype={obj.dtype}\")\n",
    "            elif isinstance(obj, h5py.Group):\n",
    "                print(f\"  📁 {name}/ (group)\")\n",
    "        \n",
    "        f.visititems(print_structure)\n",
    "        \n",
    "        if 'face_patch' in f or 'image' in f or 'img' in f:\n",
    "            img_key = 'face_patch' if 'face_patch' in f else ('image' if 'image' in f else 'img')\n",
    "            images = f[img_key]\n",
    "            print(f\"\\n📸 Image data found!\")\n",
    "            print(f\"   Total images: {len(images)}\")\n",
    "            print(f\"   Image shape: {images[0].shape}\")\n",
    "            print(f\"   Image dtype: {images.dtype}\")\n",
    "            \n",
    "            if 'gaze_label' in f or 'gaze' in f:\n",
    "                gaze_key = 'gaze_label' if 'gaze_label' in f else 'gaze'\n",
    "                gazes = f[gaze_key]\n",
    "                print(f\"\\n👁 Gaze data found!\")\n",
    "                print(f\"   Total gaze labels: {len(gazes)}\")\n",
    "                print(f\"   Gaze shape: {gazes[0].shape}\")\n",
    "            \n",
    "            print(f\"\\n🖼 Displaying first 3 sample images...\")\n",
    "            fig, axes = plt.subplots(1, 3, figsize=(12, 4))\n",
    "            for i in range(min(3, len(images))):\n",
    "                img = images[i]\n",
    "                if img.dtype == np.uint8:\n",
    "                    axes[i].imshow(img)\n",
    "                else:\n",
    "                    axes[i].imshow(img.astype(np.uint8))\n",
    "                axes[i].set_title(f\"Sample {i+1}\")\n",
    "                axes[i].axis('off')\n",
    "            plt.tight_layout()\n",
    "            plt.show()\n",
    "        else:\n",
    "            print(\"\\n⚠ No standard image key found. Available keys:\")\n",
    "            print(f\"   {list(f.keys())}\")\n",
    "\n",
    "print(\"\\n\" + \"=\"*80)\n",
    "print(f\"\\n✅ Dataset Structure:\")\n",
    "print(f\"   Location: {data_dir}\")\n",
    "print(f\"   Total .h5 files: {len(h5_files)}\")\n",
    "print(f\"   Ready for training: {'✓ Yes' if h5_files else '✗ No'}\")\n",
    "print(\"=\"*80)"
   ]
  },
  {
   "cell_type": "markdown",
   "metadata": {},
   "source": [
    "### Create Data Symlink (Optional)\n",
    "Link your Google Drive data to the project directory for easier access."
   ]
  },
  {
   "cell_type": "code",
   "execution_count": null,
   "metadata": {},
   "outputs": [],
   "source": [
    "import h5py\n",
    "from pathlib import Path\n",
    "\n",
    "data_dir = Path(\"/content/drive/MyDrive/GazeGaussian_data\")\n",
    "h5_files = list(data_dir.rglob(\"*.h5\"))\n",
    "\n",
    "print(\"=\"*80)\n",
    "print(\"📊 COMPLETE DATASET SUMMARY\")\n",
    "print(\"=\"*80)\n",
    "\n",
    "total_images = 0\n",
    "sample_file = h5_files[0] if h5_files else None\n",
    "\n",
    "if sample_file:\n",
    "    with h5py.File(sample_file, 'r') as f:\n",
    "        images_per_file = len(f['face_patch'])\n",
    "        total_images = len(h5_files) * images_per_file\n",
    "        img_shape = f['face_patch'][0].shape\n",
    "\n",
    "print(f\"\\n📁 Dataset Location: {data_dir}\")\n",
    "print(f\"📦 Total HDF5 Files: {len(h5_files)}\")\n",
    "print(f\"🖼️  Images per File: {images_per_file if sample_file else 'N/A'}\")\n",
    "print(f\"📸 Total Images: {total_images:,}\")\n",
    "print(f\"📐 Image Resolution: {img_shape if sample_file else 'N/A'}\")\n",
    "\n",
    "if sample_file:\n",
    "    with h5py.File(sample_file, 'r') as f:\n",
    "        print(f\"\\n✅ Available Data Fields:\")\n",
    "        print(f\"   • Face Images: face_patch [{f['face_patch'].shape}]\")\n",
    "        print(f\"   • Gaze Labels: pitchyaw [{f['pitchyaw'].shape}]\")\n",
    "        print(f\"   • 3D Vertices: vertice [{f['vertice'].shape}]\")\n",
    "        print(f\"   • Camera Intrinsics: inmat [{f['inmat'].shape}]\")\n",
    "        print(f\"   • Camera Extrinsics: c2w_Rmat, c2w_Tvec\")\n",
    "        print(f\"   • Head Masks: head_mask [{f['head_mask'].shape}]\")\n",
    "        print(f\"   • Eye Masks: left_eye_mask, right_eye_mask\")\n",
    "        print(f\"   • Facial Landmarks: facial_landmarks [{f['facial_landmarks'].shape}]\")\n",
    "        print(f\"   • Latent Codes: latent_codes [{f['latent_codes'].shape}]\")\n",
    "\n",
    "print(\"\\n\" + \"=\"*80)\n",
    "print(\"🚀 READY TO TRAIN!\")\n",
    "print(\"=\"*80)\n",
    "\n",
    "print(\"\\n📝 IMPORTANT: Run Cell 28 first to create the config matching your data!\")\n",
    "print(\"\\nThen run this training command:\")\n",
    "print(\"\\n# For MeshHead training:\")\n",
    "print(\"!cd /content/GazeGaussian && python train_meshhead.py \\\\\")\n",
    "print(f\"    --img_dir /content/drive/MyDrive/GazeGaussian_data/ETH-XGaze_test/ETH-XGaze_test \\\\\")\n",
    "print(f\"    --checkpoint_path /content/drive/MyDrive/GazeGaussian_checkpoints/meshhead \\\\\")\n",
    "print(f\"    --num_epochs 5\")\n",
    "\n",
    "print(\"\\n# For GazeGaussian training:\")\n",
    "print(\"!cd /content/GazeGaussian && python train.py \\\\\")\n",
    "print(f\"    -s /content/drive/MyDrive/GazeGaussian_data/ETH-XGaze_test \\\\\")\n",
    "print(f\"    -m /content/drive/MyDrive/GazeGaussian_checkpoints/model \\\\\")\n",
    "print(f\"    --iterations 10000\")\n",
    "\n",
    "print(\"\\n\" + \"=\"*80)\n",
    "print(\"⚠️  WORKFLOW:\")\n",
    "print(\"   1. Run Cell 28 to create custom config for your dataset\")\n",
    "print(\"   2. Run the training command above\")\n",
    "print(\"=\"*80)"
   ]
  },
  {
   "cell_type": "markdown",
   "metadata": {},
   "source": [
    "## 🚀 Start Training"
   ]
  },
  {
   "cell_type": "code",
   "execution_count": null,
   "metadata": {},
   "outputs": [],
   "source": [
    "!cd /content/GazeGaussian && python train_meshhead.py \\\n",
    "    --img_dir /content/drive/MyDrive/GazeGaussian_data/ETH-XGaze_test/ETH-XGaze_test \\\n",
    "    --checkpoint_path /content/drive/MyDrive/GazeGaussian_checkpoints/meshhead \\\n",
    "    --num_epochs 5"
   ]
  },
  {
   "cell_type": "markdown",
   "metadata": {},
   "source": [
    "### Dataset Summary & Training Readiness"
   ]
  },
  {
   "cell_type": "code",
   "execution_count": null,
   "metadata": {},
   "outputs": [],
   "source": [
    "import h5py\n",
    "from pathlib import Path\n",
    "\n",
    "data_dir = Path(\"/content/drive/MyDrive/GazeGaussian_data\")\n",
    "h5_files = list(data_dir.rglob(\"*.h5\"))\n",
    "\n",
    "print(\"=\"*80)\n",
    "print(\"📊 COMPLETE DATASET SUMMARY\")\n",
    "print(\"=\"*80)\n",
    "\n",
    "total_images = 0\n",
    "sample_file = h5_files[0] if h5_files else None\n",
    "\n",
    "if sample_file:\n",
    "    with h5py.File(sample_file, 'r') as f:\n",
    "        images_per_file = len(f['face_patch'])\n",
    "        total_images = len(h5_files) * images_per_file\n",
    "        img_shape = f['face_patch'][0].shape\n",
    "\n",
    "print(f\"\\n📁 Dataset Location: {data_dir}\")\n",
    "print(f\"📦 Total HDF5 Files: {len(h5_files)}\")\n",
    "print(f\"🖼️  Images per File: {images_per_file if sample_file else 'N/A'}\")\n",
    "print(f\"📸 Total Images: {total_images:,}\")\n",
    "print(f\"📐 Image Resolution: {img_shape if sample_file else 'N/A'}\")\n",
    "\n",
    "if sample_file:\n",
    "    with h5py.File(sample_file, 'r') as f:\n",
    "        print(f\"\\n✅ Available Data Fields:\")\n",
    "        print(f\"   • Face Images: face_patch [{f['face_patch'].shape}]\")\n",
    "        print(f\"   • Gaze Labels: pitchyaw [{f['pitchyaw'].shape}]\")\n",
    "        print(f\"   • 3D Vertices: vertice [{f['vertice'].shape}]\")\n",
    "        print(f\"   • Camera Intrinsics: inmat [{f['inmat'].shape}]\")\n",
    "        print(f\"   • Camera Extrinsics: c2w_Rmat, c2w_Tvec\")\n",
    "        print(f\"   • Head Masks: head_mask [{f['head_mask'].shape}]\")\n",
    "        print(f\"   • Eye Masks: left_eye_mask, right_eye_mask\")\n",
    "        print(f\"   • Facial Landmarks: facial_landmarks [{f['facial_landmarks'].shape}]\")\n",
    "        print(f\"   • Latent Codes: latent_codes [{f['latent_codes'].shape}]\")\n",
    "\n",
    "print(\"\\n\" + \"=\"*80)\n",
    "print(\"🚀 READY TO TRAIN!\")\n",
    "print(\"=\"*80)\n",
    "\n",
    "print(\"\\n📝 Training Command (adjust paths as needed):\")\n",
    "print(\"\\n# For MeshHead training:\")\n",
    "print(\"!cd /content/GazeGaussian && python train_meshhead.py \\\\\")\n",
    "print(f\"    --img_dir /content/drive/MyDrive/GazeGaussian_data/ETH-XGaze_test/ETH-XGaze_test \\\\\")\n",
    "print(f\"    --checkpoint_path /content/drive/MyDrive/GazeGaussian_checkpoints/meshhead\")\n",
    "\n",
    "print(\"\\n# For GazeGaussian training:\")\n",
    "print(\"!cd /content/GazeGaussian && python train.py \\\\\")\n",
    "print(f\"    -s /content/drive/MyDrive/GazeGaussian_data/ETH-XGaze_test \\\\\")\n",
    "print(f\"    -m /content/drive/MyDrive/GazeGaussian_checkpoints/model \\\\\")\n",
    "print(f\"    --iterations 30000\")\n",
    "\n",
    "print(\"\\n\" + \"=\"*80)\n",
    "print(\"✅ All systems ready! You can now start training.\")\n",
    "print(\"=\"*80)"
   ]
  },
  {
   "cell_type": "code",
   "execution_count": null,
   "metadata": {},
   "outputs": [],
   "source": [
    "!mkdir -p data\n",
    "!mkdir -p /content/drive/MyDrive/GazeGaussian_checkpoints\n",
    "print(\"\\n✅ Setup complete! Ready for training.\")"
   ]
  },
  {
   "cell_type": "code",
   "execution_count": null,
   "metadata": {},
   "outputs": [],
   "source": [
    "%cd /content\n",
    "!rm -rf GazeGaussian\n",
    "!git clone --recursive https://github.com/kram254/GazeGaussian.git\n",
    "%cd GazeGaussian\n",
    "!git submodule update --init --recursive"
   ]
  },
  {
   "cell_type": "code",
   "execution_count": null,
   "metadata": {},
   "outputs": [],
   "source": [
    "%cd /content/GazeGaussian/configs\n",
    "!wget https://huggingface.co/ucwxb/GazeGaussian/resolve/main/config_models.zip\n",
    "!unzip -q config_models.zip\n",
    "%cd /content/GazeGaussian"
   ]
  },
  {
   "cell_type": "code",
   "execution_count": null,
   "metadata": {},
   "outputs": [],
   "source": [
    "!pip install --upgrade pip setuptools wheel ninja"
   ]
  },
  {
   "cell_type": "code",
   "execution_count": null,
   "metadata": {},
   "outputs": [],
   "source": [
    "!pip install opencv-python h5py tqdm scipy scikit-image lpips kornia tensorboardX einops trimesh plyfile"
   ]
  },
  {
   "cell_type": "code",
   "execution_count": null,
   "metadata": {},
   "outputs": [],
   "source": [
    "!pip uninstall -y diff-gaussian-rasterization simple-knn kaolin\n",
    "!pip cache purge\n",
    "!rm -rf /usr/local/lib/python3.*/dist-packages/diff_gaussian_rasterization*\n",
    "!rm -rf /usr/local/lib/python3.*/dist-packages/simple_knn*\n",
    "!rm -rf /usr/local/lib/python3.*/dist-packages/kaolin*\n",
    "!rm -rf /content/GazeGaussian/submodules/diff-gaussian-rasterization/build\n",
    "!rm -rf /content/GazeGaussian/submodules/simple-knn/build\n",
    "!rm -rf /tmp/*"
   ]
  },
  {
   "cell_type": "code",
   "execution_count": null,
   "metadata": {},
   "outputs": [],
   "source": [
    "import torch\n",
    "print(f\"Current PyTorch: {torch.__version__}\")\n",
    "print(f\"CUDA version: {torch.version.cuda}\")\n",
    "!pip install --force-reinstall torch torchvision torchaudio --index-url https://download.pytorch.org/whl/cu121\n",
    "import torch\n",
    "print(f\"\\nReinstalled PyTorch: {torch.__version__}\")\n",
    "print(f\"CUDA version: {torch.version.cuda}\")\n",
    "print(f\"CUDA available: {torch.cuda.is_available()}\")"
   ]
  },
  {
   "cell_type": "code",
   "execution_count": null,
   "metadata": {},
   "outputs": [],
   "source": [
    "%cd submodules/diff-gaussian-rasterization\n",
    "!python setup.py install\n",
    "%cd ../.."
   ]
  },
  {
   "cell_type": "code",
   "execution_count": null,
   "metadata": {},
   "outputs": [],
   "source": [
    "%cd submodules/simple-knn\n",
    "!python setup.py install\n",
    "%cd ../.."
   ]
  },
  {
   "cell_type": "code",
   "execution_count": null,
   "metadata": {},
   "outputs": [],
   "source": [
    "%cd /content\n",
    "!git clone --recursive https://github.com/NVIDIAGameWorks/kaolin\n",
    "%cd kaolin\n",
    "!python setup.py install\n",
    "%cd /content/GazeGaussian"
   ]
  },
  {
   "cell_type": "code",
   "execution_count": null,
   "metadata": {},
   "outputs": [],
   "source": [
    "print(\"=\"*80)\n",
    "print(\"VERIFICATION\")\n",
    "print(\"=\"*80)\n",
    "\n",
    "all_good = True\n",
    "\n",
    "packages = [\n",
    "    ('torch', 'PyTorch'),\n",
    "    ('cv2', 'OpenCV'),\n",
    "    ('h5py', 'h5py'),\n",
    "    ('lpips', 'LPIPS'),\n",
    "    ('kornia', 'Kornia'),\n",
    "]\n",
    "\n",
    "for mod, name in packages:\n",
    "    try:\n",
    "        m = __import__(mod)\n",
    "        v = getattr(m, '__version__', 'OK')\n",
    "        print(f\"✓ {name:15s} {v}\")\n",
    "    except ImportError as e:\n",
    "        print(f\"✗ {name:15s} FAILED: {str(e)[:50]}\")\n",
    "        all_good = False\n",
    "\n",
    "try:\n",
    "    import simple_knn\n",
    "    print(f\"✓ {'simple-knn':15s} OK\")\n",
    "except ImportError as e:\n",
    "    print(f\"✗ {'simple-knn':15s} FAILED: {str(e)[:50]}\")\n",
    "    all_good = False\n",
    "\n",
    "try:\n",
    "    import diff_gaussian_rasterization\n",
    "    print(f\"✓ {'diff-gauss':15s} OK\")\n",
    "except ImportError as e:\n",
    "    print(f\"✗ {'diff-gauss':15s} FAILED: {str(e)[:50]}\")\n",
    "    all_good = False\n",
    "\n",
    "try:\n",
    "    import kaolin\n",
    "    print(f\"✓ {'kaolin':15s} {kaolin.__version__}\")\n",
    "except ImportError as e:\n",
    "    print(f\"✗ {'kaolin':15s} FAILED: {str(e)[:50]}\")\n",
    "    all_good = False\n",
    "\n",
    "print(\"=\"*80)\n",
    "\n",
    "if all_good:\n",
    "    print(\"\\n✅ ALL REQUIRED PACKAGES INSTALLED SUCCESSFULLY!\")\n",
    "    print(\"   Ready for MeshHead and GazeGaussian training!\")\n",
    "else:\n",
    "    print(\"\\n⚠ Some packages failed. Check errors above and rerun failed installations.\")"
   ]
  },
  {
   "cell_type": "code",
   "execution_count": null,
   "metadata": {},
   "outputs": [],
   "source": [
    "!cd /content/GazeGaussian && python train_meshhead.py \\\n",
    "    --img_dir /content/drive/MyDrive/GazeGaussian_data/ETH-XGaze_test/ETH-XGaze_test \\\n",
    "    --checkpoint_path /content/drive/MyDrive/GazeGaussian_checkpoints/meshhead \\\n",
    "    --num_epochs 50 \\\n",
    "    --early_stopping \\\n",
    "    --patience 5"
   ]
  }
 ],
 "metadata": {
  "accelerator": "GPU",
  "colab": {
   "gpuType": "T4",
   "provenance": []
  },
  "kernelspec": {
   "display_name": "Python 3",
   "name": "python3"
  }
 },
 "nbformat": 4,
 "nbformat_minor": 0
}
