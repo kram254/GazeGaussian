{
 "cells": [
  {
   "cell_type": "code",
   "execution_count": null,
   "metadata": {},
   "outputs": [],
   "source": [
    "!nvidia-smi"
   ]
  },
  {
   "cell_type": "code",
   "execution_count": null,
   "metadata": {},
   "outputs": [],
   "source": [
    "from google.colab import drive\n",
    "drive.mount('/content/drive')"
   ]
  },
  {
   "cell_type": "code",
   "execution_count": null,
   "metadata": {},
   "outputs": [],
   "source": [
    "%cd /content\n",
    "!rm -rf GazeGaussian\n",
    "!git clone --recursive https://github.com/kram254/GazeGaussian.git\n",
    "%cd GazeGaussian\n",
    "!git submodule update --init --recursive"
   ]
  },
  {
   "cell_type": "code",
   "execution_count": null,
   "metadata": {},
   "outputs": [],
   "source": [
    "!pip install --upgrade pip setuptools wheel ninja"
   ]
  },
  {
   "cell_type": "code",
   "execution_count": null,
   "metadata": {},
   "outputs": [],
   "source": [
    "!pip install opencv-python h5py tqdm scipy scikit-image lpips kornia tensorboardX einops trimesh plyfile"
   ]
  },
  {
   "cell_type": "code",
   "execution_count": null,
   "metadata": {},
   "outputs": [],
   "source": [
    "!pip uninstall -y diff-gaussian-rasterization simple-knn kaolin\n",
    "!pip cache purge\n",
    "!rm -rf /usr/local/lib/python3.*/dist-packages/diff_gaussian_rasterization*\n",
    "!rm -rf /usr/local/lib/python3.*/dist-packages/simple_knn*\n",
    "!rm -rf /usr/local/lib/python3.*/dist-packages/kaolin*\n",
    "!rm -rf /content/GazeGaussian/submodules/diff-gaussian-rasterization/build\n",
    "!rm -rf /content/GazeGaussian/submodules/simple-knn/build\n",
    "!rm -rf /tmp/*"
   ]
  },
  {
   "cell_type": "code",
   "execution_count": null,
   "metadata": {},
   "outputs": [],
   "source": [
    "!pip install --force-reinstall torch torchvision torchaudio --index-url https://download.pytorch.org/whl/cu121"
   ]
  },
  {
   "cell_type": "code",
   "execution_count": null,
   "metadata": {},
   "outputs": [],
   "source": [
    "%cd /content/GazeGaussian/submodules/diff-gaussian-rasterization\n",
    "!python setup.py install"
   ]
  },
  {
   "cell_type": "code",
   "execution_count": null,
   "metadata": {},
   "outputs": [],
   "source": [
    "%cd /content/GazeGaussian/submodules/simple-knn\n",
    "!python setup.py install"
   ]
  },
  {
   "cell_type": "code",
   "execution_count": null,
   "metadata": {},
   "outputs": [],
   "source": [
    "!pip install kaolin-core"
   ]
  },
  {
   "cell_type": "code",
   "execution_count": null,
   "metadata": {},
   "outputs": [],
   "source": [
    "print(\"=\"*80)\n",
    "print(\"VERIFICATION\")\n",
    "print(\"=\"*80)\n",
    "\n",
    "all_good = True\n",
    "\n",
    "packages = [\n",
    "    ('torch', 'PyTorch'),\n",
    "    ('cv2', 'OpenCV'),\n",
    "    ('h5py', 'h5py'),\n",
    "    ('lpips', 'LPIPS'),\n",
    "    ('kornia', 'Kornia'),\n",
    "]\n",
    "\n",
    "for mod, name in packages:\n",
    "    try:\n",
    "        m = __import__(mod)\n",
    "        v = getattr(m, '__version__', 'OK')\n",
    "        print(f\"✓ {name:15s} {v}\")\n",
    "    except ImportError as e:\n",
    "        print(f\"✗ {name:15s} FAILED: {str(e)[:50]}\")\n",
    "        all_good = False\n",
    "\n",
    "try:\n",
    "    import simple_knn\n",
    "    print(f\"✓ {'simple-knn':15s} OK\")\n",
    "except ImportError as e:\n",
    "    print(f\"✗ {'simple-knn':15s} FAILED: {str(e)[:50]}\")\n",
    "    all_good = False\n",
    "\n",
    "try:\n",
    "    import diff_gaussian_rasterization\n",
    "    print(f\"✓ {'diff-gauss':15s} OK\")\n",
    "except ImportError as e:\n",
    "    print(f\"✗ {'diff-gauss':15s} FAILED: {str(e)[:50]}\")\n",
    "    all_good = False\n",
    "\n",
    "try:\n",
    "    import kaolin\n",
    "    print(f\"✓ {'kaolin':15s} OK\")\n",
    "except ImportError as e:\n",
    "    print(f\"✗ {'kaolin':15s} FAILED: {str(e)[:50]}\")\n",
    "    all_good = False\n",
    "\n",
    "print(\"=\"*80)\n",
    "\n",
    "if all_good:\n",
    "    print(\"\\n✅ ALL REQUIRED PACKAGES INSTALLED SUCCESSFULLY!\")\n",
    "    print(\"   Ready for MeshHead and GazeGaussian training!\")\n",
    "else:\n",
    "    print(\"\\n⚠ Some packages failed. Check errors above and rerun failed installations.\")"
   ]
  },
  {
   "cell_type": "code",
   "execution_count": null,
   "metadata": {},
   "outputs": [],
   "source": [
    "print(\"\\n\" + \"=\"*80)\n",
    "print(\"VERIFICATION\")\n",
    "print(\"=\"*80)\n",
    "\n",
    "all_good = True\n",
    "\n",
    "packages = [\n",
    "    ('torch', 'PyTorch'),\n",
    "    ('cv2', 'OpenCV'),\n",
    "    ('h5py', 'h5py'),\n",
    "    ('lpips', 'LPIPS'),\n",
    "    ('kornia', 'Kornia'),\n",
    "]\n",
    "\n",
    "for mod, name in packages:\n",
    "    try:\n",
    "        m = __import__(mod)\n",
    "        v = getattr(m, '__version__', 'OK')\n",
    "        print(f\"✓ {name:15s} {v}\")\n",
    "    except ImportError as e:\n",
    "        print(f\"✗ {name:15s} FAILED: {str(e)[:50]}\")\n",
    "        all_good = False\n",
    "\n",
    "try:\n",
    "    import simple_knn\n",
    "    print(f\"✓ {'simple-knn':15s} OK\")\n",
    "except ImportError as e:\n",
    "    print(f\"✗ {'simple-knn':15s} FAILED: {str(e)[:50]}\")\n",
    "    all_good = False\n",
    "\n",
    "try:\n",
    "    import diff_gaussian_rasterization\n",
    "    print(f\"✓ {'diff-gauss':15s} OK\")\n",
    "except ImportError as e:\n",
    "    print(f\"✗ {'diff-gauss':15s} FAILED: {str(e)[:50]}\")\n",
    "    all_good = False\n",
    "\n",
    "try:\n",
    "    import kaolin\n",
    "    try:\n",
    "        kaolin_version = kaolin.__version__\n",
    "    except AttributeError:\n",
    "        kaolin_version = 'OK (version unknown)'\n",
    "    print(f\"✓ {'kaolin':15s} {kaolin_version}\")\n",
    "except ImportError as e:\n",
    "    print(f\"✗ {'kaolin':15s} FAILED: {str(e)[:50]}\")\n",
    "    all_good = False\n",
    "\n",
    "print(\"=\"*80)\n",
    "\n",
    "if all_good:\n",
    "    print(\"\\n✅ ALL REQUIRED PACKAGES INSTALLED SUCCESSFULLY!\")\n",
    "    print(\"   Ready for MeshHead and GazeGaussian training!\")\n",
    "else:\n",
    "    print(\"\\n⚠ Some packages failed. Check errors above and rerun failed installations.\")"
   ]
  },
  {
   "cell_type": "code",
   "execution_count": null,
   "metadata": {},
   "outputs": [],
   "source": [
    "!cd /content/GazeGaussian && python train_meshhead.py \\\n",
    "    --img_dir /content/drive/MyDrive/GazeGaussian_data/ETH-XGaze_test/ETH-XGaze_test \\\n",
    "    --num_epochs 50 \\\n",
    "    --early_stopping \\\n",
    "    --patience 5"
   ]
  }
 ],
 "metadata": {
  "accelerator": "GPU",
  "colab": {
   "gpuType": "T4",
   "provenance": []
  },
  "kernelspec": {
   "display_name": "Python 3",
   "name": "python3"
  }
 },
 "nbformat": 4,
 "nbformat_minor": 0
}
