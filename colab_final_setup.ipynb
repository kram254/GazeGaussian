{
 "cells": [
  {
   "cell_type": "code",
   "execution_count": null,
   "metadata": {},
   "outputs": [],
   "source": [
    "!nvidia-smi"
   ]
  },
  {
   "cell_type": "code",
   "execution_count": null,
   "metadata": {},
   "outputs": [],
   "source": [
    "from google.colab import drive\n",
    "drive.mount('/content/drive')"
   ]
  },
  {
   "cell_type": "code",
   "execution_count": null,
   "metadata": {},
   "outputs": [],
   "source": [
    "%cd /content\n",
    "!git clone https://github.com/Abiram929/GazeGaussian.git\n",
    "%cd GazeGaussian"
   ]
  },
  {
   "cell_type": "code",
   "execution_count": null,
   "metadata": {},
   "outputs": [],
   "source": [
    "import torch\n",
    "import sys\n",
    "print(f\"Python: {sys.version}\")\n",
    "print(f\"PyTorch: {torch.__version__}\")\n",
    "print(f\"CUDA: {torch.version.cuda}\")\n",
    "print(f\"CUDA available: {torch.cuda.is_available()}\")"
   ]
  },
  {
   "cell_type": "code",
   "execution_count": null,
   "metadata": {},
   "outputs": [],
   "source": [
    "!pip install --upgrade pip setuptools wheel ninja"
   ]
  },
  {
   "cell_type": "code",
   "execution_count": null,
   "metadata": {},
   "outputs": [],
   "source": [
    "!pip install fvcore iopath"
   ]
  },
  {
   "cell_type": "code",
   "execution_count": null,
   "metadata": {},
   "outputs": [],
   "source": [
    "python_version = f\"py{sys.version_info.major}{sys.version_info.minor}\"\n",
    "cuda_version = torch.version.cuda.replace('.', '')\n",
    "torch_short = ''.join(torch.__version__.split('.')[:2])\n",
    "\n",
    "pytorch3d_url = f\"https://dl.fbaipublicfiles.com/pytorch3d/packaging/wheels/{python_version}_cu{cuda_version}_pyt{torch_short}/download.html\"\n",
    "print(f\"Trying pytorch3d wheel: {pytorch3d_url}\")\n",
    "\n",
    "!pip install --no-index --no-cache-dir pytorch3d -f {pytorch3d_url}"
   ]
  },
  {
   "cell_type": "code",
   "execution_count": null,
   "metadata": {},
   "outputs": [],
   "source": [
    "try:\n",
    "    import pytorch3d\n",
    "    print(f\"✓ pytorch3d: {pytorch3d.__version__}\")\n",
    "except ImportError:\n",
    "    print(\"⚠ Wheel not available, trying direct install...\")\n",
    "    !pip install pytorch3d\n",
    "    try:\n",
    "        import pytorch3d\n",
    "        print(f\"✓ pytorch3d: {pytorch3d.__version__}\")\n",
    "    except ImportError:\n",
    "        print(\"⚠ Installing from source (~10-15 min)...\")\n",
    "        !pip install \"git+https://github.com/facebookresearch/pytorch3d.git\"\n",
    "        import pytorch3d\n",
    "        print(f\"✓ pytorch3d from source: {pytorch3d.__version__}\")"
   ]
  },
  {
   "cell_type": "code",
   "execution_count": null,
   "metadata": {},
   "outputs": [],
   "source": [
    "!pip install opencv-python h5py tqdm scipy scikit-image lpips kornia"
   ]
  },
  {
   "cell_type": "code",
   "execution_count": null,
   "metadata": {},
   "outputs": [],
   "source": [
    "%cd submodules/diff-gaussian-rasterization\n",
    "!MAX_JOBS=4 pip install -e . -v\n",
    "%cd ../.."
   ]
  },
  {
   "cell_type": "code",
   "execution_count": null,
   "metadata": {},
   "outputs": [],
   "source": [
    "%cd submodules/simple-knn\n",
    "!MAX_JOBS=4 pip install -e . -v\n",
    "%cd ../.."
   ]
  },
  {
   "cell_type": "code",
   "execution_count": null,
   "metadata": {},
   "outputs": [],
   "source": [
    "torch_version = '.'.join(torch.__version__.split('.')[:2])\n",
    "cuda_version = 'cu' + torch.version.cuda.replace('.', '')\n",
    "kaolin_url = f\"https://nvidia-kaolin.s3.us-east-2.amazonaws.com/torch-{torch_version}_{cuda_version}.html\"\n",
    "\n",
    "print(f\"Installing kaolin for PyTorch {torch_version} and {cuda_version}\")\n",
    "print(f\"URL: {kaolin_url}\")\n",
    "\n",
    "!pip install kaolin -f {kaolin_url}"
   ]
  },
  {
   "cell_type": "code",
   "execution_count": null,
   "metadata": {},
   "outputs": [],
   "source": [
    "try:\n",
    "    import kaolin\n",
    "    print(f\"✓ Kaolin: {kaolin.__version__}\")\n",
    "except ImportError:\n",
    "    print(\"⚠ Kaolin wheel not found, installing from source (~15-20 min)...\")\n",
    "    !git clone --recursive https://github.com/NVIDIAGameWorks/kaolin /content/kaolin\n",
    "    %cd /content/kaolin\n",
    "    !python setup.py develop\n",
    "    %cd /content/GazeGaussian\n",
    "    import kaolin\n",
    "    print(f\"✓ Kaolin from source: {kaolin.__version__}\")"
   ]
  },
  {
   "cell_type": "code",
   "execution_count": null,
   "metadata": {},
   "outputs": [],
   "source": [
    "print(\"\\n\" + \"=\"*80)\n",
    "print(\"PACKAGE VERIFICATION\")\n",
    "print(\"=\"*80)\n",
    "\n",
    "packages_to_check = [\n",
    "    ('torch', 'PyTorch'),\n",
    "    ('cv2', 'OpenCV'),\n",
    "    ('h5py', 'h5py'),\n",
    "    ('pytorch3d', 'PyTorch3D'),\n",
    "    ('kaolin', 'Kaolin'),\n",
    "    ('lpips', 'LPIPS'),\n",
    "    ('kornia', 'Kornia'),\n",
    "    ('tqdm', 'tqdm'),\n",
    "    ('scipy', 'SciPy'),\n",
    "]\n",
    "\n",
    "for module_name, display_name in packages_to_check:\n",
    "    try:\n",
    "        mod = __import__(module_name)\n",
    "        version = getattr(mod, '__version__', 'installed')\n",
    "        print(f\"✓ {display_name:15s} {version}\")\n",
    "    except ImportError:\n",
    "        print(f\"✗ {display_name:15s} FAILED\")\n",
    "\n",
    "try:\n",
    "    import simple_knn\n",
    "    print(f\"✓ {'simple-knn':15s} installed\")\n",
    "except ImportError:\n",
    "    print(f\"✗ {'simple-knn':15s} FAILED\")\n",
    "\n",
    "try:\n",
    "    import diff_gaussian_rasterization\n",
    "    print(f\"✓ {'diff-gauss':15s} installed\")\n",
    "except ImportError:\n",
    "    print(f\"✗ {'diff-gauss':15s} FAILED\")\n",
    "\n",
    "print(\"=\"*80)"
   ]
  },
  {
   "cell_type": "code",
   "execution_count": null,
   "metadata": {},
   "outputs": [],
   "source": [
    "!mkdir -p data\n",
    "!mkdir -p /content/drive/MyDrive/GazeGaussian_checkpoints\n",
    "print(\"✓ Directories created\")"
   ]
  },
  {
   "cell_type": "code",
   "execution_count": null,
   "metadata": {},
   "outputs": [],
   "source": [
    "print(\"\\n\" + \"=\"*80)\n",
    "print(\"✅ SETUP COMPLETE!\")\n",
    "print(\"=\"*80)\n",
    "print(\"\\nAll packages installed successfully!\")\n",
    "print(\"\\nNext steps:\")\n",
    "print(\"1. Download dataset (continue with data download cells)\")\n",
    "print(\"2. Train MeshHead (use colab_train_meshhead.ipynb)\")\n",
    "print(\"3. Train GazeGaussian (use colab_train_gazegaussian.ipynb)\")\n",
    "print(\"\\nCheckpoints will auto-save to: /content/drive/MyDrive/GazeGaussian_checkpoints/\")\n",
    "print(\"=\"*80)"
   ]
  }
 ],
 "metadata": {
  "accelerator": "GPU",
  "colab": {
   "gpuType": "T4",
   "provenance": []
  },
  "kernelspec": {
   "display_name": "Python 3",
   "name": "python3"
  }
 },
 "nbformat": 4,
 "nbformat_minor": 0
}
