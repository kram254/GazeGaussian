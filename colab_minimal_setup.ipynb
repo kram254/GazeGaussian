{
 "cells": [
  {
   "cell_type": "code",
   "execution_count": null,
   "metadata": {},
   "outputs": [],
   "source": [
    "!nvidia-smi"
   ]
  },
  {
   "cell_type": "code",
   "execution_count": null,
   "metadata": {},
   "outputs": [],
   "source": [
    "from google.colab import drive\n",
    "drive.mount('/content/drive')"
   ]
  },
  {
   "cell_type": "code",
   "execution_count": null,
   "metadata": {},
   "outputs": [],
   "source": [
    "%cd /content\n",
    "!git clone https://github.com/YOUR_USERNAME/GazeGaussian.git\n",
    "%cd GazeGaussian"
   ]
  },
  {
   "cell_type": "code",
   "execution_count": null,
   "metadata": {},
   "outputs": [],
   "source": [
    "import torch\n",
    "import sys\n",
    "print(f\"Python: {sys.version}\")\n",
    "print(f\"PyTorch: {torch.__version__}\")\n",
    "print(f\"CUDA: {torch.version.cuda}\")\n",
    "print(f\"CUDA available: {torch.cuda.is_available()}\")"
   ]
  },
  {
   "cell_type": "code",
   "execution_count": null,
   "metadata": {},
   "outputs": [],
   "source": [
    "!pip install fvcore iopath\n",
    "!pip install --no-index --no-cache-dir pytorch3d -f https://dl.fbaipublicfiles.com/pytorch3d/packaging/wheels/py310_cu118_pyt220/download.html"
   ]
  },
  {
   "cell_type": "code",
   "execution_count": null,
   "metadata": {},
   "outputs": [],
   "source": [
    "!pip install opencv-python h5py tqdm scipy scikit-image lpips kornia"
   ]
  },
  {
   "cell_type": "code",
   "execution_count": null,
   "metadata": {},
   "outputs": [],
   "source": [
    "%cd submodules/diff-gaussian-rasterization\n",
    "!pip install -e .\n",
    "%cd ../.."
   ]
  },
  {
   "cell_type": "code",
   "execution_count": null,
   "metadata": {},
   "outputs": [],
   "source": [
    "%cd submodules/simple-knn\n",
    "!pip install -e .\n",
    "%cd ../.."
   ]
  },
  {
   "cell_type": "code",
   "execution_count": null,
   "metadata": {},
   "outputs": [],
   "source": [
    "torch_version = '.'.join(torch.__version__.split('.')[:2])\n",
    "cuda_version = 'cu' + torch.version.cuda.replace('.', '')\n",
    "kaolin_url = f\"https://nvidia-kaolin.s3.us-east-2.amazonaws.com/torch-{torch_version}_{cuda_version}.html\"\n",
    "\n",
    "print(f\"Attempting to install kaolin for PyTorch {torch_version} and {cuda_version}\")\n",
    "print(f\"URL: {kaolin_url}\")\n",
    "\n",
    "!pip install kaolin -f {kaolin_url}"
   ]
  },
  {
   "cell_type": "code",
   "execution_count": null,
   "metadata": {},
   "outputs": [],
   "source": [
    "try:\n",
    "    import kaolin\n",
    "    print(f\"✓ Kaolin version: {kaolin.__version__}\")\n",
    "except ImportError:\n",
    "    print(\"⚠ Kaolin not installed from wheel, trying from source...\")\n",
    "    !git clone --recursive https://github.com/NVIDIAGameWorks/kaolin /content/kaolin\n",
    "    %cd /content/kaolin\n",
    "    !python setup.py develop\n",
    "    %cd /content/GazeGaussian\n",
    "    import kaolin\n",
    "    print(f\"✓ Kaolin installed from source: {kaolin.__version__}\")"
   ]
  },
  {
   "cell_type": "code",
   "execution_count": null,
   "metadata": {},
   "outputs": [],
   "source": [
    "print(\"\\n=\" * 80)\n",
    "print(\"Package Installation Complete\")\n",
    "print(\"=\" * 80)\n",
    "\n",
    "packages_to_check = ['torch', 'torchvision', 'pytorch3d', 'kaolin', 'cv2', 'h5py', 'tqdm', 'scipy', 'lpips', 'kornia']\n",
    "\n",
    "for pkg in packages_to_check:\n",
    "    try:\n",
    "        if pkg == 'cv2':\n",
    "            import cv2\n",
    "            print(f\"✓ opencv-python: {cv2.__version__}\")\n",
    "        else:\n",
    "            mod = __import__(pkg)\n",
    "            version = getattr(mod, '__version__', 'unknown')\n",
    "            print(f\"✓ {pkg}: {version}\")\n",
    "    except ImportError:\n",
    "        print(f\"✗ {pkg}: NOT INSTALLED\")\n",
    "\n",
    "print(\"=\" * 80)"
   ]
  },
  {
   "cell_type": "code",
   "execution_count": null,
   "metadata": {},
   "outputs": [],
   "source": [
    "!mkdir -p data\n",
    "!mkdir -p /content/drive/MyDrive/GazeGaussian_checkpoints\n",
    "print(\"Directories created. Ready for data download.\")"
   ]
  }
 ],
 "metadata": {
  "accelerator": "GPU",
  "colab": {
   "gpuType": "T4",
   "provenance": []
  },
  "kernelspec": {
   "display_name": "Python 3",
   "name": "python3"
  }
 },
 "nbformat": 4,
 "nbformat_minor": 0
}
