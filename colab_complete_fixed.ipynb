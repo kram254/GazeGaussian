{
 "cells": [
  {
   "cell_type": "code",
   "execution_count": null,
   "metadata": {},
   "outputs": [],
   "source": [
    "!nvidia-smi"
   ]
  },
  {
   "cell_type": "code",
   "execution_count": null,
   "metadata": {},
   "outputs": [],
   "source": [
    "from google.colab import drive\n",
    "drive.mount('/content/drive')"
   ]
  },
  {
   "cell_type": "code",
   "execution_count": null,
   "metadata": {},
   "outputs": [],
   "source": [
    "%cd /content\n",
    "!git clone --recursive https://github.com/Abiram929/GazeGaussian.git\n",
    "%cd GazeGaussian"
   ]
  },
  {
   "cell_type": "code",
   "execution_count": null,
   "metadata": {},
   "outputs": [],
   "source": [
    "!git submodule update --init --recursive"
   ]
  },
  {
   "cell_type": "code",
   "execution_count": null,
   "metadata": {},
   "outputs": [],
   "source": [
    "import torch\n",
    "import sys\n",
    "print(f\"Python: {sys.version}\")\n",
    "print(f\"PyTorch: {torch.__version__}\")\n",
    "print(f\"CUDA: {torch.version.cuda}\")\n",
    "print(f\"CUDA available: {torch.cuda.is_available()}\")"
   ]
  },
  {
   "cell_type": "code",
   "execution_count": null,
   "metadata": {},
   "outputs": [],
   "source": [
    "!pip install --upgrade pip setuptools wheel ninja"
   ]
  },
  {
   "cell_type": "code",
   "execution_count": null,
   "metadata": {},
   "outputs": [],
   "source": [
    "!pip install fvcore iopath"
   ]
  },
  {
   "cell_type": "code",
   "execution_count": null,
   "metadata": {},
   "outputs": [],
   "source": [
    "print(\"Installing pytorch3d...\")\n",
    "!pip install pytorch3d"
   ]
  },
  {
   "cell_type": "code",
   "execution_count": null,
   "metadata": {},
   "outputs": [],
   "source": [
    "try:\n",
    "    import pytorch3d\n",
    "    print(f\"✓ pytorch3d: {pytorch3d.__version__}\")\n",
    "except ImportError:\n",
    "    print(\"Installing pytorch3d from source...\")\n",
    "    !pip install \"git+https://github.com/facebookresearch/pytorch3d.git\"\n",
    "    import pytorch3d\n",
    "    print(f\"✓ pytorch3d from source: {pytorch3d.__version__}\")"
   ]
  },
  {
   "cell_type": "code",
   "execution_count": null,
   "metadata": {},
   "outputs": [],
   "source": [
    "!pip install opencv-python h5py tqdm scipy scikit-image lpips kornia"
   ]
  },
  {
   "cell_type": "code",
   "execution_count": null,
   "metadata": {},
   "outputs": [],
   "source": [
    "import os\n",
    "print(\"Checking diff-gaussian-rasterization...\")\n",
    "rast_dir = \"submodules/diff-gaussian-rasterization\"\n",
    "if os.path.exists(f\"{rast_dir}/setup.py\"):\n",
    "    print(f\"✓ setup.py found\")\n",
    "else:\n",
    "    print(f\"✗ setup.py NOT found - cloning submodule\")\n",
    "    !git clone https://github.com/graphdeco-inria/diff-gaussian-rasterization {rast_dir}"
   ]
  },
  {
   "cell_type": "code",
   "execution_count": null,
   "metadata": {},
   "outputs": [],
   "source": [
    "%cd submodules/diff-gaussian-rasterization\n",
    "!python setup.py install\n",
    "%cd ../.."
   ]
  },
  {
   "cell_type": "code",
   "execution_count": null,
   "metadata": {},
   "outputs": [],
   "source": [
    "print(\"Checking simple-knn...\")\n",
    "knn_dir = \"submodules/simple-knn\"\n",
    "if os.path.exists(f\"{knn_dir}/setup.py\"):\n",
    "    print(f\"✓ setup.py found\")\n",
    "else:\n",
    "    print(f\"✗ setup.py NOT found - cloning submodule\")\n",
    "    !git clone https://gitlab.inria.fr/bkerbl/simple-knn.git {knn_dir}"
   ]
  },
  {
   "cell_type": "code",
   "execution_count": null,
   "metadata": {},
   "outputs": [],
   "source": [
    "%cd submodules/simple-knn\n",
    "!python setup.py install\n",
    "%cd ../.."
   ]
  },
  {
   "cell_type": "code",
   "execution_count": null,
   "metadata": {},
   "outputs": [],
   "source": [
    "print(\"Installing kaolin...\")\n",
    "torch_version = '.'.join(torch.__version__.split('.')[:2])\n",
    "cuda_version = 'cu' + torch.version.cuda.replace('.', '')\n",
    "kaolin_url = f\"https://nvidia-kaolin.s3.us-east-2.amazonaws.com/torch-{torch_version}_{cuda_version}.html\"\n",
    "\n",
    "print(f\"Trying kaolin for PyTorch {torch_version} and {cuda_version}\")\n",
    "!pip install kaolin -f {kaolin_url}"
   ]
  },
  {
   "cell_type": "code",
   "execution_count": null,
   "metadata": {},
   "outputs": [],
   "source": [
    "try:\n",
    "    import kaolin\n",
    "    print(f\"✓ Kaolin: {kaolin.__version__}\")\n",
    "except ImportError:\n",
    "    print(\"Installing kaolin from source...\")\n",
    "    !git clone --recursive https://github.com/NVIDIAGameWorks/kaolin /content/kaolin\n",
    "    %cd /content/kaolin\n",
    "    !python setup.py develop\n",
    "    %cd /content/GazeGaussian\n",
    "    import kaolin\n",
    "    print(f\"✓ Kaolin from source: {kaolin.__version__}\")"
   ]
  },
  {
   "cell_type": "code",
   "execution_count": null,
   "metadata": {},
   "outputs": [],
   "source": [
    "print(\"\\n\" + \"=\"*80)\n",
    "print(\"VERIFICATION\")\n",
    "print(\"=\"*80)\n",
    "\n",
    "all_good = True\n",
    "\n",
    "packages = [\n",
    "    ('torch', 'PyTorch'),\n",
    "    ('cv2', 'OpenCV'),\n",
    "    ('h5py', 'h5py'),\n",
    "    ('pytorch3d', 'PyTorch3D'),\n",
    "    ('kaolin', 'Kaolin'),\n",
    "    ('lpips', 'LPIPS'),\n",
    "    ('kornia', 'Kornia'),\n",
    "]\n",
    "\n",
    "for mod, name in packages:\n",
    "    try:\n",
    "        m = __import__(mod)\n",
    "        v = getattr(m, '__version__', 'OK')\n",
    "        print(f\"✓ {name:15s} {v}\")\n",
    "    except ImportError:\n",
    "        print(f\"✗ {name:15s} FAILED\")\n",
    "        all_good = False\n",
    "\n",
    "try:\n",
    "    import simple_knn\n",
    "    print(f\"✓ {'simple-knn':15s} OK\")\n",
    "except ImportError:\n",
    "    print(f\"✗ {'simple-knn':15s} FAILED\")\n",
    "    all_good = False\n",
    "\n",
    "try:\n",
    "    import diff_gaussian_rasterization\n",
    "    print(f\"✓ {'diff-gauss':15s} OK\")\n",
    "except ImportError:\n",
    "    print(f\"✗ {'diff-gauss':15s} FAILED\")\n",
    "    all_good = False\n",
    "\n",
    "print(\"=\"*80)\n",
    "\n",
    "if all_good:\n",
    "    print(\"✅ ALL PACKAGES INSTALLED!\")\n",
    "else:\n",
    "    print(\"⚠ Some packages failed (check above)\")"
   ]
  },
  {
   "cell_type": "code",
   "execution_count": null,
   "metadata": {},
   "outputs": [],
   "source": [
    "!mkdir -p data\n",
    "!mkdir -p /content/drive/MyDrive/GazeGaussian_checkpoints\n",
    "print(\"\\n✅ Setup complete! Ready for training.\")"
   ]
  }
 ],
 "metadata": {
  "accelerator": "GPU",
  "colab": {
   "gpuType": "T4",
   "provenance": []
  },
  "kernelspec": {
   "display_name": "Python 3",
   "name": "python3"
  }
 },
 "nbformat": 4,
 "nbformat_minor": 0
}
