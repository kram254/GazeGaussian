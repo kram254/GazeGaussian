{
 "cells": [
  {
   "cell_type": "code",
   "execution_count": null,
   "metadata": {},
   "outputs": [],
   "source": [
    "from google.colab import drive\n",
    "drive.mount('/content/drive')"
   ]
  },
  {
   "cell_type": "code",
   "execution_count": null,
   "metadata": {},
   "outputs": [],
   "source": [
    "%cd /content/GazeGaussian"
   ]
  },
  {
   "cell_type": "code",
   "execution_count": null,
   "metadata": {},
   "outputs": [],
   "source": [
    "!nvidia-smi"
   ]
  },
  {
   "cell_type": "code",
   "execution_count": null,
   "metadata": {},
   "outputs": [],
   "source": [
    "import os\n",
    "os.makedirs(\"data/ETH-XGaze\", exist_ok=True)\n",
    "\n",
    "%cd data/ETH-XGaze\n",
    "!wget https://huggingface.co/ucwxb/GazeGaussian/resolve/main/ETH-XGaze.zip.partaa\n",
    "!wget https://huggingface.co/ucwxb/GazeGaussian/resolve/main/ETH-XGaze.zip.partab\n",
    "\n",
    "!cat ETH-XGaze.zip.part* > ETH-XGaze_partial.zip\n",
    "!unzip ETH-XGaze_partial.zip\n",
    "%cd ../.."
   ]
  },
  {
   "cell_type": "code",
   "execution_count": null,
   "metadata": {},
   "outputs": [],
   "source": [
    "!python check_training_status.py"
   ]
  },
  {
   "cell_type": "code",
   "execution_count": null,
   "metadata": {},
   "outputs": [],
   "source": [
    "print(\"Quick test: Training MeshHead for 5 epochs\")\n",
    "!python train_meshhead.py --batch_size 1 --num_epochs 5 --save_freq 100"
   ]
  },
  {
   "cell_type": "code",
   "execution_count": null,
   "metadata": {},
   "outputs": [],
   "source": [
    "print(\"Quick test: Training GazeGaussian for 10 epochs\")\n",
    "!python train_gazegaussian.py --batch_size 1 --num_epochs 10 --save_freq 50 --load_meshhead_checkpoint work_dirs/meshhead/checkpoints/latest.pth"
   ]
  },
  {
   "cell_type": "code",
   "execution_count": null,
   "metadata": {},
   "outputs": [],
   "source": [
    "import shutil\n",
    "from pathlib import Path\n",
    "\n",
    "drive_test_dir = \"/content/drive/MyDrive/GazeGaussian_test_checkpoints\"\n",
    "os.makedirs(drive_test_dir, exist_ok=True)\n",
    "\n",
    "for ckpt in Path(\"work_dirs\").glob(\"**/*.pth\"):\n",
    "    shutil.copy(ckpt, drive_test_dir)\n",
    "    print(f\"Saved {ckpt.name} to Google Drive\")\n",
    "\n",
    "print(f\"\\nTest complete! Checkpoints saved to: {drive_test_dir}\")"
   ]
  },
  {
   "cell_type": "code",
   "execution_count": null,
   "metadata": {},
   "outputs": [],
   "source": [
    "print(\"\\nQuick test successful!\")\n",
    "print(\"If everything works, proceed with full training using colab_train_meshhead.ipynb and colab_train_gazegaussian.ipynb\")"
   ]
  }
 ],
 "metadata": {
  "accelerator": "GPU",
  "colab": {
   "gpuType": "T4",
   "provenance": []
  },
  "kernelspec": {
   "display_name": "Python 3",
   "name": "python3"
  }
 },
 "nbformat": 4,
 "nbformat_minor": 0
}
