{
 "cells": [
  {
   "cell_type": "code",
   "execution_count": null,
   "metadata": {},
   "outputs": [],
   "source": [
    "!nvidia-smi"
   ]
  },
  {
   "cell_type": "code",
   "execution_count": null,
   "metadata": {},
   "outputs": [],
   "source": [
    "from google.colab import drive\n",
    "drive.mount('/content/drive')"
   ]
  },
  {
   "cell_type": "code",
   "execution_count": null,
   "metadata": {},
   "outputs": [],
   "source": [
    "%cd /content\n",
    "!git clone https://github.com/Abiram929/GazeGaussian.git\n",
    "%cd GazeGaussian"
   ]
  },
  {
   "cell_type": "code",
   "execution_count": null,
   "metadata": {},
   "outputs": [],
   "source": [
    "import torch\n",
    "import sys\n",
    "print(f\"Python: {sys.version}\")\n",
    "print(f\"PyTorch: {torch.__version__}\")\n",
    "print(f\"CUDA: {torch.version.cuda}\")\n",
    "print(f\"CUDA available: {torch.cuda.is_available()}\")"
   ]
  },
  {
   "cell_type": "code",
   "execution_count": null,
   "metadata": {},
   "outputs": [],
   "source": [
    "!pip install --upgrade pip setuptools wheel ninja"
   ]
  },
  {
   "cell_type": "code",
   "execution_count": null,
   "metadata": {},
   "outputs": [],
   "source": [
    "!pip install fvcore iopath\n",
    "!pip install --no-index --no-cache-dir pytorch3d -f https://dl.fbaipublicfiles.com/pytorch3d/packaging/wheels/py310_cu118_pyt220/download.html"
   ]
  },
  {
   "cell_type": "code",
   "execution_count": null,
   "metadata": {},
   "outputs": [],
   "source": [
    "!pip install opencv-python h5py tqdm scipy scikit-image lpips kornia"
   ]
  },
  {
   "cell_type": "code",
   "execution_count": null,
   "metadata": {},
   "outputs": [],
   "source": [
    "%cd submodules/diff-gaussian-rasterization\n",
    "!MAX_JOBS=4 pip install -e . -v\n",
    "%cd ../.."
   ]
  },
  {
   "cell_type": "code",
   "execution_count": null,
   "metadata": {},
   "outputs": [],
   "source": [
    "%cd submodules/simple-knn\n",
    "!MAX_JOBS=4 pip install -e . -v\n",
    "%cd ../.."
   ]
  },
  {
   "cell_type": "code",
   "execution_count": null,
   "metadata": {},
   "outputs": [],
   "source": [
    "torch_version = '.'.join(torch.__version__.split('.')[:2])\n",
    "cuda_version = 'cu' + torch.version.cuda.replace('.', '')\n",
    "kaolin_url = f\"https://nvidia-kaolin.s3.us-east-2.amazonaws.com/torch-{torch_version}_{cuda_version}.html\"\n",
    "\n",
    "print(f\"Installing kaolin for PyTorch {torch_version} and {cuda_version}\")\n",
    "print(f\"URL: {kaolin_url}\")\n",
    "\n",
    "!pip install kaolin -f {kaolin_url}"
   ]
  },
  {
   "cell_type": "code",
   "execution_count": null,
   "metadata": {},
   "outputs": [],
   "source": [
    "try:\n",
    "    import kaolin\n",
    "    print(f\"✓ Kaolin version: {kaolin.__version__}\")\n",
    "except ImportError:\n",
    "    print(\"⚠ Kaolin not installed from wheel, installing from source...\")\n",
    "    !git clone --recursive https://github.com/NVIDIAGameWorks/kaolin /content/kaolin\n",
    "    %cd /content/kaolin\n",
    "    !python setup.py develop\n",
    "    %cd /content/GazeGaussian\n",
    "    import kaolin\n",
    "    print(f\"✓ Kaolin installed from source: {kaolin.__version__}\")"
   ]
  },
  {
   "cell_type": "code",
   "execution_count": null,
   "metadata": {},
   "outputs": [],
   "source": [
    "print(\"\\n\" + \"=\"*80)\n",
    "print(\"PACKAGE VERIFICATION\")\n",
    "print(\"=\"*80)\n",
    "\n",
    "packages = {\n",
    "    'torch': torch,\n",
    "    'cv2': __import__('cv2'),\n",
    "    'h5py': __import__('h5py'),\n",
    "    'pytorch3d': __import__('pytorch3d'),\n",
    "    'kaolin': __import__('kaolin'),\n",
    "    'lpips': __import__('lpips'),\n",
    "    'kornia': __import__('kornia'),\n",
    "}\n",
    "\n",
    "for name, module in packages.items():\n",
    "    version = getattr(module, '__version__', 'unknown')\n",
    "    print(f\"✓ {name:15s} {version}\")\n",
    "\n",
    "try:\n",
    "    import simple_knn\n",
    "    print(f\"✓ {'simple_knn':15s} installed\")\n",
    "except ImportError:\n",
    "    print(f\"✗ {'simple_knn':15s} FAILED\")\n",
    "\n",
    "try:\n",
    "    import diff_gaussian_rasterization\n",
    "    print(f\"✓ {'diff_gauss_rast':15s} installed\")\n",
    "except ImportError:\n",
    "    print(f\"✗ {'diff_gauss_rast':15s} FAILED\")\n",
    "\n",
    "print(\"=\"*80)"
   ]
  },
  {
   "cell_type": "code",
   "execution_count": null,
   "metadata": {},
   "outputs": [],
   "source": [
    "!mkdir -p data\n",
    "!mkdir -p /content/drive/MyDrive/GazeGaussian_checkpoints\n",
    "print(\"✓ Directories created\")"
   ]
  },
  {
   "cell_type": "code",
   "execution_count": null,
   "metadata": {},
   "outputs": [],
   "source": [
    "print(\"\\n\" + \"=\"*80)\n",
    "print(\"SETUP COMPLETE!\")\n",
    "print(\"=\"*80)\n",
    "print(\"\\nNext steps:\")\n",
    "print(\"1. Download dataset (run data download notebook)\")\n",
    "print(\"2. Train MeshHead (colab_train_meshhead.ipynb)\")\n",
    "print(\"3. Train GazeGaussian (colab_train_gazegaussian.ipynb)\")\n",
    "print(\"=\"*80)"
   ]
  }
 ],
 "metadata": {
  "accelerator": "GPU",
  "colab": {
   "gpuType": "T4",
   "provenance": []
  },
  "kernelspec": {
   "display_name": "Python 3",
   "name": "python3"
  }
 },
 "nbformat": 4,
 "nbformat_minor": 0
}
