{
 "cells": [
  {
   "cell_type": "code",
   "execution_count": null,
   "metadata": {},
   "outputs": [],
   "source": [
    "import torch\n",
    "import sys\n",
    "\n",
    "print(f\"Python: {sys.version}\")\n",
    "print(f\"PyTorch: {torch.__version__}\")\n",
    "print(f\"CUDA: {torch.version.cuda}\")"
   ]
  },
  {
   "cell_type": "code",
   "execution_count": null,
   "metadata": {},
   "outputs": [],
   "source": [
    "torch_version = torch.__version__.split('+')\n",
    "torch_ver = torch_version[0]\n",
    "cuda_ver = torch.version.cuda.replace('.', '')\n",
    "\n",
    "print(f\"Torch version for kaolin: {torch_ver}\")\n",
    "print(f\"CUDA version for kaolin: cu{cuda_ver}\")"
   ]
  },
  {
   "cell_type": "code",
   "execution_count": null,
   "metadata": {},
   "outputs": [],
   "source": [
    "kaolin_url = f\"https://nvidia-kaolin.s3.us-east-2.amazonaws.com/torch-{torch_ver}_cu{cuda_ver}.html\"\n",
    "print(f\"Trying kaolin from: {kaolin_url}\")\n",
    "!pip install kaolin -f {kaolin_url}"
   ]
  },
  {
   "cell_type": "code",
   "execution_count": null,
   "metadata": {},
   "outputs": [],
   "source": [
    "try:\n",
    "    import kaolin\n",
    "    print(f\"✓ Kaolin installed successfully: {kaolin.__version__}\")\n",
    "except ImportError as e:\n",
    "    print(f\"✗ Kaolin installation failed: {e}\")\n",
    "    print(\"\\nTrying alternative: Install from source\")"
   ]
  },
  {
   "cell_type": "code",
   "execution_count": null,
   "metadata": {},
   "outputs": [],
   "source": [
    "!git clone --recursive https://github.com/NVIDIAGameWorks/kaolin /content/kaolin\n",
    "%cd /content/kaolin\n",
    "!python setup.py develop\n",
    "%cd /content/GazeGaussian"
   ]
  },
  {
   "cell_type": "code",
   "execution_count": null,
   "metadata": {},
   "outputs": [],
   "source": [
    "import kaolin\n",
    "print(f\"✓ Kaolin ready: {kaolin.__version__}\")"
   ]
  }
 ],
 "metadata": {
  "accelerator": "GPU",
  "colab": {
   "gpuType": "T4",
   "provenance": []
  },
  "kernelspec": {
   "display_name": "Python 3",
   "name": "python3"
  }
 },
 "nbformat": 4,
 "nbformat_minor": 0
}
