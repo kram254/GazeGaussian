{
 "cells": [
  {
   "cell_type": "code",
   "execution_count": null,
   "metadata": {},
   "outputs": [],
   "source": [
    "import torch\n",
    "import sys\n",
    "\n",
    "torch_version = torch.__version__\n",
    "python_version = f\"py{sys.version_info.major}{sys.version_info.minor}\"\n",
    "cuda_version = torch.version.cuda.replace('.', '')\n",
    "torch_short = ''.join(torch_version.split('.')[:2])\n",
    "\n",
    "print(f\"Python: {python_version}\")\n",
    "print(f\"PyTorch: {torch_version} (short: pyt{torch_short})\")\n",
    "print(f\"CUDA: {torch.version.cuda} (short: cu{cuda_version})\")"
   ]
  },
  {
   "cell_type": "code",
   "execution_count": null,
   "metadata": {},
   "outputs": [],
   "source": [
    "!pip install fvcore iopath"
   ]
  },
  {
   "cell_type": "code",
   "execution_count": null,
   "metadata": {},
   "outputs": [],
   "source": [
    "pytorch3d_wheel_url = f\"https://dl.fbaipublicfiles.com/pytorch3d/packaging/wheels/{python_version}_cu{cuda_version}_pyt{torch_short}/download.html\"\n",
    "print(f\"Trying pytorch3d from: {pytorch3d_wheel_url}\")\n",
    "!pip install --no-index --no-cache-dir pytorch3d -f {pytorch3d_wheel_url}"
   ]
  },
  {
   "cell_type": "code",
   "execution_count": null,
   "metadata": {},
   "outputs": [],
   "source": [
    "try:\n",
    "    import pytorch3d\n",
    "    print(f\"✓ pytorch3d installed: {pytorch3d.__version__}\")\n",
    "except ImportError:\n",
    "    print(\"⚠ Wheel not found, trying without specific wheel URL...\")\n",
    "    !pip install pytorch3d\n",
    "    try:\n",
    "        import pytorch3d\n",
    "        print(f\"✓ pytorch3d installed: {pytorch3d.__version__}\")\n",
    "    except ImportError:\n",
    "        print(\"⚠ Installing from source (takes ~10-15 minutes)...\")\n",
    "        !pip install \"git+https://github.com/facebookresearch/pytorch3d.git\"\n",
    "        import pytorch3d\n",
    "        print(f\"✓ pytorch3d installed from source: {pytorch3d.__version__}\")"
   ]
  }
 ],
 "metadata": {
  "accelerator": "GPU",
  "colab": {
   "gpuType": "T4",
   "provenance": []
  },
  "kernelspec": {
   "display_name": "Python 3",
   "name": "python3"
  }
 },
 "nbformat": 4,
 "nbformat_minor": 0
}
