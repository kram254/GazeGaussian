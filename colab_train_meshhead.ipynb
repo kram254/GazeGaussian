{
 "cells": [
  {
   "cell_type": "code",
   "execution_count": null,
   "metadata": {},
   "outputs": [],
   "source": [
    "from google.colab import drive\n",
    "drive.mount('/content/drive')"
   ]
  },
  {
   "cell_type": "code",
   "execution_count": null,
   "metadata": {},
   "outputs": [],
   "source": [
    "%cd /content/GazeGaussian"
   ]
  },
  {
   "cell_type": "code",
   "execution_count": null,
   "metadata": {},
   "outputs": [],
   "source": [
    "!nvidia-smi"
   ]
  },
  {
   "cell_type": "code",
   "execution_count": null,
   "metadata": {},
   "outputs": [],
   "source": [
    "!python check_training_status.py"
   ]
  },
  {
   "cell_type": "code",
   "execution_count": null,
   "metadata": {},
   "outputs": [],
   "source": [
    "import os\n",
    "import shutil\n",
    "from pathlib import Path\n",
    "\n",
    "drive_checkpoint_dir = \"/content/drive/MyDrive/GazeGaussian_checkpoints/meshhead\"\n",
    "os.makedirs(drive_checkpoint_dir, exist_ok=True)\n",
    "\n",
    "def save_checkpoint_to_drive():\n",
    "    local_ckpt_dir = Path(\"work_dirs/meshhead/checkpoints\")\n",
    "    if local_ckpt_dir.exists():\n",
    "        for ckpt_file in local_ckpt_dir.glob(\"*.pth\"):\n",
    "            shutil.copy(ckpt_file, drive_checkpoint_dir)\n",
    "            print(f\"Saved {ckpt_file.name} to Google Drive\")"
   ]
  },
  {
   "cell_type": "code",
   "execution_count": null,
   "metadata": {},
   "outputs": [],
   "source": [
    "!python train_meshhead.py --batch_size 1 --num_epochs 50 --save_freq 500"
   ]
  },
  {
   "cell_type": "code",
   "execution_count": null,
   "metadata": {},
   "outputs": [],
   "source": [
    "save_checkpoint_to_drive()\n",
    "print(\"\\nMeshHead training complete!\")\n",
    "print(f\"Checkpoints saved to: {drive_checkpoint_dir}\")"
   ]
  },
  {
   "cell_type": "code",
   "execution_count": null,
   "metadata": {},
   "outputs": [],
   "source": [
    "!ls -lh work_dirs/meshhead/checkpoints/"
   ]
  },
  {
   "cell_type": "code",
   "execution_count": null,
   "metadata": {},
   "outputs": [],
   "source": [
    "print(\"Next: Run colab_train_gazegaussian.ipynb\")"
   ]
  }
 ],
 "metadata": {
  "accelerator": "GPU",
  "colab": {
   "gpuType": "T4",
   "provenance": []
  },
  "kernelspec": {
   "display_name": "Python 3",
   "name": "python3"
  }
 },
 "nbformat": 4,
 "nbformat_minor": 0
}
