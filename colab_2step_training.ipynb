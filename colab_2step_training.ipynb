{
 "cells": [
  {
   "cell_type": "markdown",
   "metadata": {},
   "source": [
    "# GazeGaussian Enhanced (DiT) - 2-Step Training\n",
    "\n",
    "## Overview\n",
    "This notebook trains the enhanced GazeGaussian model with:\n",
    "1. **DiT Neural Renderer** (replacing U-Net)\n",
    "2. **VAE Integration**\n",
    "3. **Orthogonality Regularization**\n",
    "\n",
    "## Training Process\n",
    "- **Step 1**: Train MeshHead (~10 epochs, ~2-3 hours)\n",
    "- **Step 2**: Train GazeGaussian with DiT (~30 epochs, ~8-12 hours)\n",
    "\n",
    "## Requirements\n",
    "- GPU: A100 (40GB recommended) or V100 (32GB minimum)\n",
    "- Dataset: ETH-XGaze training set in Google Drive\n",
    "- Time: ~12-15 hours total"
   ]
  },
  {
   "cell_type": "code",
   "execution_count": null,
   "metadata": {},
   "outputs": [],
   "source": [
    "!nvidia-smi"
   ]
  },
  {
   "cell_type": "code",
   "execution_count": null,
   "metadata": {},
   "outputs": [],
   "source": [
    "from google.colab import drive\n",
    "drive.mount('/content/drive')"
   ]
  },
  {
   "cell_type": "markdown",
   "metadata": {},
   "source": [
    "## 1. Clone Repository"
   ]
  },
  {
   "cell_type": "code",
   "execution_count": null,
   "metadata": {},
   "outputs": [],
   "source": [
    "%cd /content\n",
    "!rm -rf GazeGaussian\n",
    "!git clone --recursive https://github.com/kram254/GazeGaussian.git\n",
    "%cd GazeGaussian\n",
    "!git submodule update --init --recursive"
   ]
  },
  {
   "cell_type": "markdown",
   "metadata": {},
   "source": [
    "## 2. Install Dependencies"
   ]
  },
  {
   "cell_type": "code",
   "execution_count": null,
   "metadata": {},
   "outputs": [],
   "source": [
    "!pip install --upgrade pip setuptools wheel ninja"
   ]
  },
  {
   "cell_type": "code",
   "execution_count": null,
   "metadata": {},
   "outputs": [],
   "source": [
    "!pip install opencv-python h5py tqdm scipy scikit-image lpips kornia tensorboardX einops trimesh plyfile"
   ]
  },
  {
   "cell_type": "code",
   "execution_count": null,
   "metadata": {},
   "outputs": [],
   "source": [
    "!pip install --force-reinstall torch torchvision torchaudio --index-url https://download.pytorch.org/whl/cu121"
   ]
  },
  {
   "cell_type": "markdown",
   "metadata": {},
   "source": [
    "## 3. Build CUDA Extensions"
   ]
  },
  {
   "cell_type": "code",
   "execution_count": null,
   "metadata": {},
   "outputs": [],
   "source": [
    "%cd /content/GazeGaussian/submodules/diff-gaussian-rasterization\n",
    "!python setup.py install\n",
    "%cd /content/GazeGaussian"
   ]
  },
  {
   "cell_type": "code",
   "execution_count": null,
   "metadata": {},
   "outputs": [],
   "source": [
    "%cd /content/GazeGaussian/submodules/simple-knn\n",
    "!python setup.py install\n",
    "%cd /content/GazeGaussian"
   ]
  },
  {
   "cell_type": "code",
   "execution_count": null,
   "metadata": {},
   "outputs": [],
   "source": [
    "!pip install kaolin-core"
   ]
  },
  {
   "cell_type": "markdown",
   "metadata": {},
   "source": [
    "## 4. Verify Installation"
   ]
  },
  {
   "cell_type": "code",
   "execution_count": null,
   "metadata": {},
   "outputs": [],
   "source": [
    "print(\"\\n\" + \"=\"*80)\n",
    "print(\"VERIFICATION\")\n",
    "print(\"=\"*80)\n",
    "\n",
    "all_good = True\n",
    "\n",
    "packages = [\n",
    "    ('torch', 'PyTorch'),\n",
    "    ('cv2', 'OpenCV'),\n",
    "    ('h5py', 'h5py'),\n",
    "    ('lpips', 'LPIPS'),\n",
    "    ('kornia', 'Kornia'),\n",
    "]\n",
    "\n",
    "for mod, name in packages:\n",
    "    try:\n",
    "        m = __import__(mod)\n",
    "        v = getattr(m, '__version__', 'OK')\n",
    "        print(f\"✓ {name:15s} {v}\")\n",
    "    except ImportError as e:\n",
    "        print(f\"✗ {name:15s} FAILED: {str(e)[:50]}\")\n",
    "        all_good = False\n",
    "\n",
    "try:\n",
    "    import simple_knn\n",
    "    print(f\"✓ {'simple-knn':15s} OK\")\n",
    "except ImportError as e:\n",
    "    print(f\"✗ {'simple-knn':15s} FAILED: {str(e)[:50]}\")\n",
    "    all_good = False\n",
    "\n",
    "try:\n",
    "    import diff_gaussian_rasterization\n",
    "    print(f\"✓ {'diff-gauss':15s} OK\")\n",
    "except ImportError as e:\n",
    "    print(f\"✗ {'diff-gauss':15s} FAILED: {str(e)[:50]}\")\n",
    "    all_good = False\n",
    "\n",
    "try:\n",
    "    import kaolin\n",
    "    try:\n",
    "        kaolin_version = kaolin.__version__\n",
    "    except AttributeError:\n",
    "        kaolin_version = 'OK (version unknown)'\n",
    "    print(f\"✓ {'kaolin':15s} {kaolin_version}\")\n",
    "except ImportError as e:\n",
    "    print(f\"✗ {'kaolin':15s} FAILED: {str(e)[:50]}\")\n",
    "    all_good = False\n",
    "\n",
    "print(\"=\"*80)\n",
    "\n",
    "if all_good:\n",
    "    print(\"\\n✅ ALL REQUIRED PACKAGES INSTALLED SUCCESSFULLY!\")\n",
    "    print(\"   Ready for training!\")\n",
    "else:\n",
    "    print(\"\\n⚠ Some packages failed. Check errors above and rerun failed installations.\")"
   ]
  },
  {
   "cell_type": "markdown",
   "metadata": {},
   "source": [
    "## 5. Configure Dataset"
   ]
  },
  {
   "cell_type": "code",
   "execution_count": null,
   "metadata": {},
   "outputs": [],
   "source": [
    "import json\n",
    "from pathlib import Path\n",
    "\n",
    "data_dir = Path(\"/content/drive/MyDrive/GazeGaussian_data/ETH-XGaze/train\")\n",
    "h5_files = sorted([f.name for f in data_dir.glob(\"*.h5\")])\n",
    "\n",
    "print(f\"Found {len(h5_files)} training files\")\n",
    "print(f\"First 5 files: {h5_files[:5]}\")\n",
    "\n",
    "if not h5_files:\n",
    "    print(\"\\n❌ No .h5 files found! Check your path.\")\n",
    "else:\n",
    "    train_split = int(len(h5_files) * 0.9)\n",
    "    train_files = h5_files[:train_split]\n",
    "    val_files = h5_files[train_split:]\n",
    "\n",
    "    custom_config = {\n",
    "        \"train\": train_files,\n",
    "        \"val\": val_files,\n",
    "        \"val_gaze\": val_files,\n",
    "        \"test\": [],\n",
    "        \"test_specific\": []\n",
    "    }\n",
    "\n",
    "    config_path = \"/content/GazeGaussian/configs/dataset/eth_xgaze/train_test_split.json\"\n",
    "    with open(config_path, 'w') as f:\n",
    "        json.dump(custom_config, f, indent=2)\n",
    "\n",
    "    print(f\"\\n✓ Updated config\")\n",
    "    print(f\"  - Training files: {len(train_files)}\")\n",
    "    print(f\"  - Validation files: {len(val_files)}\")"
   ]
  },
  {
   "cell_type": "markdown",
   "metadata": {},
   "source": [
    "## 6. STEP 1: Train MeshHead (~10 epochs, ~2-3 hours)\n",
    "\n",
    "This creates the canonical 3D head model."
   ]
  },
  {
   "cell_type": "code",
   "execution_count": null,
   "metadata": {},
   "outputs": [],
   "source": [
    "%cd /content/GazeGaussian\n",
    "\n",
    "!python train_meshhead.py \\\n",
    "    --batch_size 1 \\\n",
    "    --name 'meshhead' \\\n",
    "    --img_dir '/content/drive/MyDrive/GazeGaussian_data/ETH-XGaze/train' \\\n",
    "    --num_epochs 10 \\\n",
    "    --num_workers 2 \\\n",
    "    --early_stopping \\\n",
    "    --patience 5 \\\n",
    "    --dataset_name 'eth_xgaze'"
   ]
  },
  {
   "cell_type": "markdown",
   "metadata": {},
   "source": [
    "## 7. Verify MeshHead Checkpoint"
   ]
  },
  {
   "cell_type": "code",
   "execution_count": null,
   "metadata": {},
   "outputs": [],
   "source": [
    "import glob\n",
    "import os\n",
    "\n",
    "checkpoints = glob.glob(\"/content/GazeGaussian/work_dirs/meshhead_*/checkpoints/*.pth\")\n",
    "if checkpoints:\n",
    "    latest_checkpoint = sorted(checkpoints)[-1]\n",
    "    print(f\"✓ MeshHead checkpoint found: {latest_checkpoint}\")\n",
    "    print(f\"  Size: {os.path.getsize(latest_checkpoint) / (1024**2):.2f} MB\")\n",
    "    \n",
    "    with open('/content/meshhead_checkpoint.txt', 'w') as f:\n",
    "        f.write(latest_checkpoint)\n",
    "    print(f\"\\n✓ Checkpoint path saved for Step 2\")\n",
    "else:\n",
    "    print(\"❌ No MeshHead checkpoint found! Training may have failed.\")"
   ]
  },
  {
   "cell_type": "markdown",
   "metadata": {},
   "source": [
    "## 8. Verify DiT Configuration"
   ]
  },
  {
   "cell_type": "code",
   "execution_count": null,
   "metadata": {},
   "outputs": [],
   "source": [
    "from configs.gazegaussian_options import BaseOptions\n",
    "\n",
    "opt = BaseOptions()\n",
    "\n",
    "print(\"=\"*80)\n",
    "print(\"ENHANCED MODEL CONFIGURATION\")\n",
    "print(\"=\"*80)\n",
    "print(f\"\\n✓ Neural Renderer Type: {opt.neural_renderer_type}\")\n",
    "print(f\"✓ DiT Depth: {opt.dit_depth}\")\n",
    "print(f\"✓ DiT Num Heads: {opt.dit_num_heads}\")\n",
    "print(f\"✓ DiT Patch Size: {opt.dit_patch_size}\")\n",
    "print(f\"✓ VAE Enabled: {opt.use_vae}\")\n",
    "print(f\"✓ VAE Z Channels: {opt.vae_z_channels}\")\n",
    "print(f\"✓ VAE Frozen: {opt.freeze_vae}\")\n",
    "print(f\"✓ Orthogonality Loss: {opt.use_orthogonality_loss}\")\n",
    "print(f\"✓ Orthogonality Importance: {opt.orthogonality_loss_importance}\")\n",
    "\n",
    "if opt.neural_renderer_type == \"dit\" and opt.use_vae and opt.use_orthogonality_loss:\n",
    "    print(\"\\n✅ All 3 enhancements are ACTIVE!\")\n",
    "else:\n",
    "    print(\"\\n⚠ Some enhancements may be disabled!\")"
   ]
  },
  {
   "cell_type": "markdown",
   "metadata": {},
   "source": [
    "## 9. STEP 2: Train GazeGaussian with DiT (~30 epochs, ~8-12 hours)\n",
    "\n",
    "This trains the full pipeline with your 3 enhancements."
   ]
  },
  {
   "cell_type": "code",
   "execution_count": null,
   "metadata": {},
   "outputs": [],
   "source": [
    "%cd /content/GazeGaussian\n",
    "\n",
    "with open('/content/meshhead_checkpoint.txt', 'r') as f:\n",
    "    meshhead_checkpoint = f.read().strip()\n",
    "\n",
    "print(f\"Loading MeshHead from: {meshhead_checkpoint}\")\n",
    "\n",
    "!python train_gazegaussian.py \\\n",
    "    --batch_size 1 \\\n",
    "    --name 'gazegaussian_dit' \\\n",
    "    --img_dir '/content/drive/MyDrive/GazeGaussian_data/ETH-XGaze/train' \\\n",
    "    --num_epochs 30 \\\n",
    "    --num_workers 2 \\\n",
    "    --lr 0.0001 \\\n",
    "    --clip_grad \\\n",
    "    --load_meshhead_checkpoint {meshhead_checkpoint} \\\n",
    "    --dataset_name 'eth_xgaze'"
   ]
  },
  {
   "cell_type": "markdown",
   "metadata": {},
   "source": [
    "## 10. Verify Final Checkpoint"
   ]
  },
  {
   "cell_type": "code",
   "execution_count": null,
   "metadata": {},
   "outputs": [],
   "source": [
    "import glob\n",
    "import os\n",
    "\n",
    "checkpoints = glob.glob(\"/content/GazeGaussian/work_dirs/gazegaussian_dit_*/checkpoints/*.pth\")\n",
    "if checkpoints:\n",
    "    latest_checkpoint = sorted(checkpoints)[-1]\n",
    "    print(f\"✓ GazeGaussian checkpoint found: {latest_checkpoint}\")\n",
    "    print(f\"  Size: {os.path.getsize(latest_checkpoint) / (1024**2):.2f} MB\")\n",
    "    print(f\"\\n✓ Training complete!\")\n",
    "    print(f\"\\nCopy checkpoint to Drive:\")\n",
    "    !cp {latest_checkpoint} /content/drive/MyDrive/gazegaussian_dit_final.pth\n",
    "    print(\"✓ Saved to Drive: gazegaussian_dit_final.pth\")\n",
    "else:\n",
    "    print(\"❌ No GazeGaussian checkpoint found! Training may have failed.\")"
   ]
  },
  {
   "cell_type": "markdown",
   "metadata": {},
   "source": [
    "## 11. Generate Test Samples\n",
    "\n",
    "Generate a few redirected gaze/pose samples for verification."
   ]
  },
  {
   "cell_type": "code",
   "execution_count": null,
   "metadata": {},
   "outputs": [],
   "source": [
    "# TODO: Add inference code to generate samples\n",
    "# This will be added after confirming training works\n",
    "print(\"Sample generation coming in next update...\")"
   ]
  }
 ],
 "metadata": {
  "accelerator": "GPU",
  "colab": {
   "gpuType": "A100",
   "provenance": []
  },
  "kernelspec": {
   "display_name": "Python 3",
   "name": "python3"
  }
 },
 "nbformat": 4,
 "nbformat_minor": 0
}
