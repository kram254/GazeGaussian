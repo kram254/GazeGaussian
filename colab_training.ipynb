{
 "cells": [
  {
   "cell_type": "code",
   "execution_count": null,
   "metadata": {},
   "outputs": [],
   "source": [
    "!nvidia-smi"
   ]
  },
  {
   "cell_type": "code",
   "execution_count": null,
   "metadata": {},
   "outputs": [],
   "source": [
    "from google.colab import drive\n",
    "drive.mount('/content/drive')"
   ]
  },
  {
   "cell_type": "code",
   "execution_count": null,
   "metadata": {},
   "outputs": [],
   "source": [
    "%cd /content\n",
    "!rm -rf GazeGaussian\n",
    "!git clone --recursive https://github.com/kram254/GazeGaussian.git\n",
    "%cd GazeGaussian\n",
    "!git submodule update --init --recursive"
   ]
  },
  {
   "cell_type": "code",
   "execution_count": null,
   "metadata": {},
   "outputs": [],
   "source": [
    "!pip install --upgrade pip setuptools wheel ninja"
   ]
  },
  {
   "cell_type": "code",
   "execution_count": null,
   "metadata": {},
   "outputs": [],
   "source": [
    "!pip install opencv-python h5py tqdm scipy scikit-image lpips kornia tensorboardX einops trimesh plyfile"
   ]
  },
  {
   "cell_type": "code",
   "execution_count": null,
   "metadata": {},
   "outputs": [],
   "source": [
    "!pip uninstall -y diff-gaussian-rasterization simple-knn kaolin\n",
    "!pip cache purge\n",
    "!rm -rf /usr/local/lib/python3.*/dist-packages/diff_gaussian_rasterization*\n",
    "!rm -rf /usr/local/lib/python3.*/dist-packages/simple_knn*\n",
    "!rm -rf /usr/local/lib/python3.*/dist-packages/kaolin*\n",
    "!rm -rf /content/GazeGaussian/submodules/diff-gaussian-rasterization/build\n",
    "!rm -rf /content/GazeGaussian/submodules/simple-knn/build"
   ]
  },
  {
   "cell_type": "code",
   "execution_count": null,
   "metadata": {},
   "outputs": [],
   "source": [
    "!pip install --force-reinstall torch torchvision torchaudio --index-url https://download.pytorch.org/whl/cu121"
   ]
  },
  {
   "cell_type": "code",
   "execution_count": null,
   "metadata": {},
   "outputs": [],
   "source": [
    "%cd submodules/diff-gaussian-rasterization\n",
    "!python setup.py install\n",
    "%cd ../.."
   ]
  },
  {
   "cell_type": "code",
   "execution_count": null,
   "metadata": {},
   "outputs": [],
   "source": [
    "%cd submodules/simple-knn\n",
    "!python setup.py install\n",
    "%cd ../.."
   ]
  },
  {
   "cell_type": "code",
   "execution_count": null,
   "metadata": {},
   "outputs": [],
   "source": [
    "%cd /content\n",
    "!git clone --recursive https://github.com/NVIDIAGameWorks/kaolin\n",
    "%cd kaolin\n",
    "!python setup.py install\n",
    "%cd /content/GazeGaussian"
   ]
  },
  {
   "cell_type": "code",
   "execution_count": null,
   "metadata": {},
   "outputs": [],
   "source": [
    "import json\n",
    "from pathlib import Path\n",
    "\n",
    "data_dir = Path(\"/content/drive/MyDrive/GazeGaussian_data/ETH-XGaze_test/ETH-XGaze_test\")\n",
    "h5_files = sorted([f.name for f in data_dir.glob(\"*.h5\")])\n",
    "\n",
    "print(f\"Found {len(h5_files)} HDF5 files\")\n",
    "print(f\"First 5 files: {h5_files[:5]}\")\n",
    "\n",
    "if not h5_files:\n",
    "    print(\"\\n❌ No .h5 files found! Please check your data path.\")\n",
    "else:\n",
    "    train_split = int(len(h5_files) * 0.8)\n",
    "    train_files = h5_files[:train_split]\n",
    "    val_files = h5_files[train_split:]\n",
    "\n",
    "    custom_config = {\n",
    "        \"train\": train_files,\n",
    "        \"val\": val_files,\n",
    "        \"val_gaze\": val_files,\n",
    "        \"test\": [],\n",
    "        \"test_specific\": []\n",
    "    }\n",
    "\n",
    "    config_path = \"/content/GazeGaussian/configs/dataset/eth_xgaze/train_test_split.json\"\n",
    "    with open(config_path, 'w') as f:\n",
    "        json.dump(custom_config, f, indent=2)\n",
    "\n",
    "    print(f\"\\n✓ Updated config at: {config_path}\")\n",
    "    print(f\"  - Training files: {len(train_files)}\")\n",
    "    print(f\"  - Validation files: {len(val_files)}\")"
   ]
  },
  {
   "cell_type": "code",
   "execution_count": null,
   "metadata": {},
   "outputs": [],
   "source": [
    "!cd /content/GazeGaussian && python train_meshhead.py \\\n",
    "    --img_dir /content/drive/MyDrive/GazeGaussian_data/ETH-XGaze_test/ETH-XGaze_test \\\n",
    "    --num_epochs 50 \\\n",
    "    --early_stopping \\\n",
    "    --patience 5"
   ]
  }
 ],
 "metadata": {
  "accelerator": "GPU",
  "colab": {
   "gpuType": "T4",
   "provenance": []
  },
  "kernelspec": {
   "display_name": "Python 3",
   "name": "python3"
  }
 },
 "nbformat": 4,
 "nbformat_minor": 0
}
